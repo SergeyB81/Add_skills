{
 "cells": [
  {
   "cell_type": "markdown",
   "metadata": {
    "id": "p5HJPaVqbK9Q"
   },
   "source": [
    "### **Подключение**"
   ]
  },
  {
   "cell_type": "code",
   "execution_count": 65,
   "metadata": {
    "colab": {
     "base_uri": "https://localhost:8080/"
    },
    "executionInfo": {
     "elapsed": 3304,
     "status": "ok",
     "timestamp": 1739196152538,
     "user": {
      "displayName": "Sergey Bykov",
      "userId": "06208526556578872036"
     },
     "user_tz": -180
    },
    "id": "8G72zsLzajLL",
    "outputId": "2f315ef4-d318-432d-bf26-d5c07ef3aaa2"
   },
   "outputs": [
    {
     "name": "stdout",
     "output_type": "stream",
     "text": [
      "Requirement already satisfied: pyspark in /usr/local/lib/python3.11/dist-packages (3.5.4)\n",
      "Requirement already satisfied: py4j==0.10.9.7 in /usr/local/lib/python3.11/dist-packages (from pyspark) (0.10.9.7)\n"
     ]
    }
   ],
   "source": [
    "! pip install pyspark"
   ]
  },
  {
   "cell_type": "code",
   "execution_count": 66,
   "metadata": {
    "colab": {
     "base_uri": "https://localhost:8080/"
    },
    "executionInfo": {
     "elapsed": 668,
     "status": "ok",
     "timestamp": 1739196153204,
     "user": {
      "displayName": "Sergey Bykov",
      "userId": "06208526556578872036"
     },
     "user_tz": -180
    },
    "id": "yXaG3H98aoRK",
    "outputId": "1c70116a-8af7-46ac-c750-4bd7e0943d4c"
   },
   "outputs": [
    {
     "name": "stdout",
     "output_type": "stream",
     "text": [
      "Spark Version: 3.5.4\n"
     ]
    }
   ],
   "source": [
    "from pyspark.sql import SparkSession\n",
    "\n",
    "# Создаем SparkSession\n",
    "spark = (\n",
    "    SparkSession.builder\n",
    "    .appName(\"My PySpark Application\")   # Название приложения\n",
    "    .master(\"local[*]\")   # Указывает использовать локальный режим со всеми ядрами\n",
    "    .config(\"spark.executor.memory\", \"2g\")   # Настройка памяти для исполнителей\n",
    "    .config(\"spark.driver.memory\", \"2g\")   # Настройка памяти для драйвера\n",
    "    .config(\"spark.sql.debug.maxToStringFields\", 1000)\n",
    "    .getOrCreate()\n",
    ")\n",
    "\n",
    "# Проверка успешного подключения\n",
    "print(\"Spark Version:\", spark.version)"
   ]
  },
  {
   "cell_type": "markdown",
   "metadata": {
    "id": "m9Hzv7erbBwN"
   },
   "source": [
    "### **Данные**"
   ]
  },
  {
   "cell_type": "markdown",
   "metadata": {
    "id": "XbObsYohbwWj"
   },
   "source": [
    "### **Создаем DataFrame**"
   ]
  },
  {
   "cell_type": "code",
   "execution_count": 67,
   "metadata": {
    "colab": {
     "base_uri": "https://localhost:8080/"
    },
    "executionInfo": {
     "elapsed": 4888,
     "status": "ok",
     "timestamp": 1739196158090,
     "user": {
      "displayName": "Sergey Bykov",
      "userId": "06208526556578872036"
     },
     "user_tz": -180
    },
    "id": "pVChgK8-b4WZ",
    "outputId": "81f5ab16-477c-4a9b-ca5f-9b053f84a983"
   },
   "outputs": [
    {
     "name": "stdout",
     "output_type": "stream",
     "text": [
      "+--------------+------------+-------------+----------+--------+-----------+--------------------+-----------+\n",
      "|Square_Footage|Num_Bedrooms|Num_Bathrooms|Year_Built|Lot_Size|Garage_Size|Neighborhood_Quality|House_Price|\n",
      "+--------------+------------+-------------+----------+--------+-----------+--------------------+-----------+\n",
      "|          1360|           2|            1|      1981|   0.599|          0|                   5|  262382.85|\n",
      "|          4272|           3|            2|      2016|   4.753|          1|                   6|  985260.85|\n",
      "|          3592|           1|            1|      2016|   3.634|          0|                   9|  777977.39|\n",
      "+--------------+------------+-------------+----------+--------+-----------+--------------------+-----------+\n",
      "only showing top 3 rows\n",
      "\n",
      "+-----------+-----------+--------+------------+--------------------+\n",
      "|Property_ID|Garage_Size|Has_Pool|Has_Basement|Neighborhood_Quality|\n",
      "+-----------+-----------+--------+------------+--------------------+\n",
      "|          1|          0|       1|           0|                   5|\n",
      "|          2|          1|       1|           1|                   6|\n",
      "|          3|          0|       0|           1|                   9|\n",
      "+-----------+-----------+--------+------------+--------------------+\n",
      "only showing top 3 rows\n",
      "\n"
     ]
    }
   ],
   "source": [
    "from pyspark.sql.types import StructType, StructField, IntegerType, DoubleType\n",
    "\n",
    "# Данные первой таблицы\n",
    "data1 = [\n",
    "    (1360, 2, 1, 1981, 0.599, 0, 5, 262382.85),\n",
    "    (4272, 3, 2, 2016, 4.753, 1, 6, 985260.85),\n",
    "    (3592, 1, 1, 2016, 3.634, 0, 9, 777977.39),\n",
    "    (966, 1, 1, 1977, 2.730, 1, 8, 229698.91),\n",
    "    (4926, 2, 2, 1993, 4.699, 0, 8, 1041740.85)\n",
    "]\n",
    "\n",
    "# Схема первой таблицы\n",
    "schema1 = StructType([\n",
    "    StructField(\"Square_Footage\", IntegerType(), True),\n",
    "    StructField(\"Num_Bedrooms\", IntegerType(), True),\n",
    "    StructField(\"Num_Bathrooms\", IntegerType(), True),\n",
    "    StructField(\"Year_Built\", IntegerType(), True),\n",
    "    StructField(\"Lot_Size\", DoubleType(), True),\n",
    "    StructField(\"Garage_Size\", IntegerType(), True),\n",
    "    StructField(\"Neighborhood_Quality\", IntegerType(), True),\n",
    "    StructField(\"House_Price\", DoubleType(), True)\n",
    "])\n",
    "\n",
    "# Создание первой таблицы\n",
    "df1 = spark.createDataFrame(data1, schema=schema1)\n",
    "\n",
    "# Данные второй таблицы\n",
    "data2 = [\n",
    "    (1, 0, 1, 0, 5),\n",
    "    (2, 1, 1, 1, 6),\n",
    "    (3, 0, 0, 1, 9),\n",
    "    (4, 1, 0, 1, 8),\n",
    "    (5, 0, 1, 0, 8)\n",
    "]\n",
    "\n",
    "# Схема второй таблицы\n",
    "schema2 = StructType([\n",
    "    StructField(\"Property_ID\", IntegerType(), True),\n",
    "    StructField(\"Garage_Size\", IntegerType(), True),\n",
    "    StructField(\"Has_Pool\", IntegerType(), True),\n",
    "    StructField(\"Has_Basement\", IntegerType(), True),\n",
    "    StructField(\"Neighborhood_Quality\", IntegerType(), True)\n",
    "])\n",
    "\n",
    "# Создание второй таблицы\n",
    "df2 = spark.createDataFrame(data2, schema=schema2)\n",
    "\n",
    "# Показать данные\n",
    "df1.show(3)\n",
    "df2.show(3)"
   ]
  },
  {
   "cell_type": "markdown",
   "metadata": {
    "id": "CXji5RSMchjM"
   },
   "source": [
    "### **Загружаем DataFrame**"
   ]
  },
  {
   "cell_type": "code",
   "execution_count": 68,
   "metadata": {
    "colab": {
     "base_uri": "https://localhost:8080/"
    },
    "executionInfo": {
     "elapsed": 1452,
     "status": "ok",
     "timestamp": 1739196159540,
     "user": {
      "displayName": "Sergey Bykov",
      "userId": "06208526556578872036"
     },
     "user_tz": -180
    },
    "id": "eLDnuPcUc-k9",
    "outputId": "d1e8b87e-66fd-4a85-a9a7-c8d7417ef4a4"
   },
   "outputs": [
    {
     "name": "stdout",
     "output_type": "stream",
     "text": [
      "Drive already mounted at /content/drive; to attempt to forcibly remount, call drive.mount(\"/content/drive\", force_remount=True).\n"
     ]
    }
   ],
   "source": [
    "from google.colab import drive\n",
    "drive.mount('/content/drive')"
   ]
  },
  {
   "cell_type": "code",
   "execution_count": 69,
   "metadata": {
    "colab": {
     "base_uri": "https://localhost:8080/"
    },
    "executionInfo": {
     "elapsed": 5437,
     "status": "ok",
     "timestamp": 1739196164976,
     "user": {
      "displayName": "Sergey Bykov",
      "userId": "06208526556578872036"
     },
     "user_tz": -180
    },
    "id": "zZvvkJ08iQfF",
    "outputId": "1f70489c-f533-4647-9d4d-b49d191b2b76"
   },
   "outputs": [
    {
     "name": "stdout",
     "output_type": "stream",
     "text": [
      "/usr/local/lib/python3.11/dist-packages/gdown/__main__.py:140: FutureWarning: Option `--id` was deprecated in version 4.3.1 and will be removed in 5.0. You don't need to pass it anymore to use a file ID.\n",
      "  warnings.warn(\n",
      "Downloading...\n",
      "From: https://drive.google.com/uc?id=1MntGLdgd7GdQJgI1s_ZatTlrimXXJXdU\n",
      "To: /content/house_price_regression_dataset.csv\n",
      "100% 54.8k/54.8k [00:00<00:00, 51.3MB/s]\n"
     ]
    }
   ],
   "source": [
    "! gdown --id 1MntGLdgd7GdQJgI1s_ZatTlrimXXJXdU"
   ]
  },
  {
   "cell_type": "code",
   "execution_count": 70,
   "metadata": {
    "executionInfo": {
     "elapsed": 1215,
     "status": "ok",
     "timestamp": 1739196166189,
     "user": {
      "displayName": "Sergey Bykov",
      "userId": "06208526556578872036"
     },
     "user_tz": -180
    },
    "id": "US_s00VOgQ0B"
   },
   "outputs": [],
   "source": [
    "file_path = '/content/house_price_regression_dataset.csv'\n",
    "df = spark.read.csv(file_path, header=True, inferSchema=True)\n"
   ]
  },
  {
   "cell_type": "markdown",
   "metadata": {
    "id": "vVaa2yilotxs"
   },
   "source": [
    "### **Первые 5 строк DataFrame**"
   ]
  },
  {
   "cell_type": "code",
   "execution_count": 71,
   "metadata": {
    "colab": {
     "base_uri": "https://localhost:8080/"
    },
    "executionInfo": {
     "elapsed": 309,
     "status": "ok",
     "timestamp": 1739196166496,
     "user": {
      "displayName": "Sergey Bykov",
      "userId": "06208526556578872036"
     },
     "user_tz": -180
    },
    "id": "xxNth1sxkcrY",
    "outputId": "57b702fb-ed6d-48fd-ba20-f563c640711d"
   },
   "outputs": [
    {
     "name": "stdout",
     "output_type": "stream",
     "text": [
      "+--------------+------------+-------------+----------+------------------+-----------+--------------------+------------------+\n",
      "|Square_Footage|Num_Bedrooms|Num_Bathrooms|Year_Built|          Lot_Size|Garage_Size|Neighborhood_Quality|       House_Price|\n",
      "+--------------+------------+-------------+----------+------------------+-----------+--------------------+------------------+\n",
      "|          1360|           2|            1|      1981|0.5996366396268326|          0|                   5| 262382.8522740563|\n",
      "|          4272|           3|            3|      2016|4.7530138494020395|          1|                   6|  985260.854490162|\n",
      "|          3592|           1|            2|      2016| 3.634822720478255|          0|                   9| 777977.3901185812|\n",
      "|           966|           1|            2|      1977|  2.73066687604351|          1|                   8| 229698.9186636115|\n",
      "|          4926|           2|            1|      1993| 4.699072554837388|          0|                   8|1041740.8589249004|\n",
      "+--------------+------------+-------------+----------+------------------+-----------+--------------------+------------------+\n",
      "only showing top 5 rows\n",
      "\n"
     ]
    }
   ],
   "source": [
    "df.show(5)"
   ]
  },
  {
   "cell_type": "markdown",
   "metadata": {
    "id": "daHBK596o0cw"
   },
   "source": [
    "### **Структура DataFrame**"
   ]
  },
  {
   "cell_type": "code",
   "execution_count": 72,
   "metadata": {
    "colab": {
     "base_uri": "https://localhost:8080/"
    },
    "executionInfo": {
     "elapsed": 3,
     "status": "ok",
     "timestamp": 1739196166496,
     "user": {
      "displayName": "Sergey Bykov",
      "userId": "06208526556578872036"
     },
     "user_tz": -180
    },
    "id": "9kpFTPvCo893",
    "outputId": "a5914628-bd1e-4f66-bdc9-168ba27f93be"
   },
   "outputs": [
    {
     "name": "stdout",
     "output_type": "stream",
     "text": [
      "root\n",
      " |-- Square_Footage: integer (nullable = true)\n",
      " |-- Num_Bedrooms: integer (nullable = true)\n",
      " |-- Num_Bathrooms: integer (nullable = true)\n",
      " |-- Year_Built: integer (nullable = true)\n",
      " |-- Lot_Size: double (nullable = true)\n",
      " |-- Garage_Size: integer (nullable = true)\n",
      " |-- Neighborhood_Quality: integer (nullable = true)\n",
      " |-- House_Price: double (nullable = true)\n",
      "\n"
     ]
    }
   ],
   "source": [
    "df.printSchema()"
   ]
  },
  {
   "cell_type": "markdown",
   "metadata": {
    "id": "k46MGYrcrYNy"
   },
   "source": [
    "### **Количество строк в DataFrame**"
   ]
  },
  {
   "cell_type": "code",
   "execution_count": 73,
   "metadata": {
    "colab": {
     "base_uri": "https://localhost:8080/"
    },
    "executionInfo": {
     "elapsed": 522,
     "status": "ok",
     "timestamp": 1739196167016,
     "user": {
      "displayName": "Sergey Bykov",
      "userId": "06208526556578872036"
     },
     "user_tz": -180
    },
    "id": "k6GtdpCDrls-",
    "outputId": "931e133d-e5fd-48fb-a70d-73af15c6cdd7"
   },
   "outputs": [
    {
     "name": "stdout",
     "output_type": "stream",
     "text": [
      "Количество строк: 1000\n"
     ]
    }
   ],
   "source": [
    "row_count = df.count()\n",
    "print(f\"Количество строк: {row_count}\")"
   ]
  },
  {
   "cell_type": "markdown",
   "metadata": {
    "id": "Q7TMDOyepfKg"
   },
   "source": [
    "### **Статистическое описание данных**"
   ]
  },
  {
   "cell_type": "code",
   "execution_count": 74,
   "metadata": {
    "colab": {
     "base_uri": "https://localhost:8080/"
    },
    "executionInfo": {
     "elapsed": 1578,
     "status": "ok",
     "timestamp": 1739196168593,
     "user": {
      "displayName": "Sergey Bykov",
      "userId": "06208526556578872036"
     },
     "user_tz": -180
    },
    "id": "wIJQSRgmrkJd",
    "outputId": "c8e77217-0fe9-431b-8a4e-0af7ed0cf27f"
   },
   "outputs": [
    {
     "name": "stdout",
     "output_type": "stream",
     "text": [
      "+-------+------------------+------------------+------------------+------------------+------------------+------------------+--------------------+------------------+\n",
      "|summary|    Square_Footage|      Num_Bedrooms|     Num_Bathrooms|        Year_Built|          Lot_Size|       Garage_Size|Neighborhood_Quality|       House_Price|\n",
      "+-------+------------------+------------------+------------------+------------------+------------------+------------------+--------------------+------------------+\n",
      "|  count|              1000|              1000|              1000|              1000|              1000|              1000|                1000|              1000|\n",
      "|   mean|          2815.422|              2.99|             1.973|           1986.55|2.7780874273930207|             1.022|               5.615| 618861.0186467685|\n",
      "| stddev|1255.5149205133453|1.4275636370887075|0.8203316060861882|20.632915868030334|1.2979031460668562|0.8149725027141597|  2.8870590763110653| 253568.0583754209|\n",
      "|    min|               503|                 1|                 1|              1950|0.5060582193045366|                 0|                   1|111626.85342361582|\n",
      "|    max|              4999|                 5|                 3|              2022| 4.989302700131234|                 2|                  10|1108236.8362913695|\n",
      "+-------+------------------+------------------+------------------+------------------+------------------+------------------+--------------------+------------------+\n",
      "\n"
     ]
    }
   ],
   "source": [
    "df.describe().show(5)"
   ]
  },
  {
   "cell_type": "markdown",
   "metadata": {
    "id": "7u_C1fIar1kW"
   },
   "source": [
    "### **Уникальные значения для колонки `Num_Bedrooms`.**"
   ]
  },
  {
   "cell_type": "code",
   "execution_count": 75,
   "metadata": {
    "colab": {
     "base_uri": "https://localhost:8080/"
    },
    "executionInfo": {
     "elapsed": 323,
     "status": "ok",
     "timestamp": 1739196168913,
     "user": {
      "displayName": "Sergey Bykov",
      "userId": "06208526556578872036"
     },
     "user_tz": -180
    },
    "id": "PQK_4IK-sZ2D",
    "outputId": "769a46af-0792-4643-9c9b-8b0d49b0d036"
   },
   "outputs": [
    {
     "name": "stdout",
     "output_type": "stream",
     "text": [
      "+------------+\n",
      "|Num_Bedrooms|\n",
      "+------------+\n",
      "|           1|\n",
      "|           3|\n",
      "|           5|\n",
      "|           4|\n",
      "|           2|\n",
      "+------------+\n",
      "\n"
     ]
    }
   ],
   "source": [
    "df.select(\"Num_Bedrooms\").distinct().show()"
   ]
  },
  {
   "cell_type": "markdown",
   "metadata": {
    "id": "bbkdHYUfsmhe"
   },
   "source": [
    "### **Фильтруем строки, где `Square_Footage` больше 3000.**"
   ]
  },
  {
   "cell_type": "code",
   "execution_count": 76,
   "metadata": {
    "colab": {
     "base_uri": "https://localhost:8080/"
    },
    "executionInfo": {
     "elapsed": 336,
     "status": "ok",
     "timestamp": 1739196169247,
     "user": {
      "displayName": "Sergey Bykov",
      "userId": "06208526556578872036"
     },
     "user_tz": -180
    },
    "id": "lq-XdtGVtaWF",
    "outputId": "cd2cef80-8800-4062-9bfa-1642e0b45554"
   },
   "outputs": [
    {
     "name": "stdout",
     "output_type": "stream",
     "text": [
      "+--------------+------------+-------------+----------+------------------+-----------+--------------------+------------------+\n",
      "|Square_Footage|Num_Bedrooms|Num_Bathrooms|Year_Built|          Lot_Size|Garage_Size|Neighborhood_Quality|       House_Price|\n",
      "+--------------+------------+-------------+----------+------------------+-----------+--------------------+------------------+\n",
      "|          4272|           3|            3|      2016|4.7530138494020395|          1|                   6|  985260.854490162|\n",
      "|          3592|           1|            2|      2016| 3.634822720478255|          0|                   9| 777977.3901185812|\n",
      "|          4926|           2|            1|      1993| 4.699072554837388|          0|                   8|1041740.8589249004|\n",
      "|          3944|           5|            3|      1990| 2.475930043628728|          2|                   8| 879796.9835223783|\n",
      "|          3671|           1|            2|      2012| 4.911960066216673|          0|                   1| 814427.8614089885|\n",
      "|          3419|           1|            1|      1972| 2.805281407595683|          1|                   1| 703413.1109446795|\n",
      "|          3885|           2|            3|      1983| 3.251014709974911|          1|                   9|  838719.430503504|\n",
      "|          4617|           5|            1|      2005|4.3578900606237845|          0|                   4|1019192.6613592046|\n",
      "|          3404|           3|            3|      1977| 3.529608977095392|          0|                   1| 735850.8123421574|\n",
      "|          3058|           2|            1|      2017| 1.498552073529678|          0|                   2| 672852.0519810001|\n",
      "|          3247|           1|            2|      2005| 4.467035547233406|          1|                  10| 740174.0146550778|\n",
      "|          3234|           1|            3|      1969|2.5927486173528997|          0|                   7| 652166.1423658864|\n",
      "|          3505|           2|            3|      1968| 4.433768069706617|          1|                   8| 745670.6371477235|\n",
      "|          3702|           5|            1|      1984| 2.892098285487469|          0|                  10|  809686.201143527|\n",
      "|          4056|           3|            3|      1992|2.7975280793420216|          1|                   4| 883819.0911218557|\n",
      "|          4390|           1|            1|      1960|4.1926944095446395|          2|                   5| 912468.0479046734|\n",
      "|          3388|           2|            2|      1987| 2.679549918311789|          0|                   1| 705923.3148916194|\n",
      "|          3324|           1|            1|      2014| 0.688934430093147|          2|                   8| 697574.5556670319|\n",
      "|          3112|           2|            3|      1980|2.6566704046154186|          0|                   9| 666733.4734616925|\n",
      "|          3056|           2|            3|      2018| 4.315675476935068|          2|                   3| 735678.4622017285|\n",
      "+--------------+------------+-------------+----------+------------------+-----------+--------------------+------------------+\n",
      "only showing top 20 rows\n",
      "\n"
     ]
    }
   ],
   "source": [
    "filtered_df = df.filter(df.Square_Footage > 3000)\n",
    "filtered_df.show()"
   ]
  },
  {
   "cell_type": "markdown",
   "metadata": {
    "id": "kz5my5Ajt58b"
   },
   "source": [
    "### **Объединение таблиц (`df` и `df1`) через `union`**"
   ]
  },
  {
   "cell_type": "code",
   "execution_count": 77,
   "metadata": {
    "colab": {
     "base_uri": "https://localhost:8080/"
    },
    "executionInfo": {
     "elapsed": 3,
     "status": "ok",
     "timestamp": 1739196169247,
     "user": {
      "displayName": "Sergey Bykov",
      "userId": "06208526556578872036"
     },
     "user_tz": -180
    },
    "id": "7kx2TXZCuJAQ",
    "outputId": "07bc12bb-187d-40ff-8e03-0b40546210ab"
   },
   "outputs": [
    {
     "name": "stdout",
     "output_type": "stream",
     "text": [
      "root\n",
      " |-- Square_Footage: integer (nullable = true)\n",
      " |-- Num_Bedrooms: integer (nullable = true)\n",
      " |-- Num_Bathrooms: integer (nullable = true)\n",
      " |-- Year_Built: integer (nullable = true)\n",
      " |-- Lot_Size: double (nullable = true)\n",
      " |-- Garage_Size: integer (nullable = true)\n",
      " |-- Neighborhood_Quality: integer (nullable = true)\n",
      " |-- House_Price: double (nullable = true)\n",
      "\n",
      "root\n",
      " |-- Square_Footage: integer (nullable = true)\n",
      " |-- Num_Bedrooms: integer (nullable = true)\n",
      " |-- Num_Bathrooms: integer (nullable = true)\n",
      " |-- Year_Built: integer (nullable = true)\n",
      " |-- Lot_Size: double (nullable = true)\n",
      " |-- Garage_Size: integer (nullable = true)\n",
      " |-- Neighborhood_Quality: integer (nullable = true)\n",
      " |-- House_Price: double (nullable = true)\n",
      "\n"
     ]
    }
   ],
   "source": [
    "df.printSchema()\n",
    "df1.printSchema()"
   ]
  },
  {
   "cell_type": "code",
   "execution_count": 78,
   "metadata": {
    "colab": {
     "base_uri": "https://localhost:8080/"
    },
    "executionInfo": {
     "elapsed": 215,
     "status": "ok",
     "timestamp": 1739196169460,
     "user": {
      "displayName": "Sergey Bykov",
      "userId": "06208526556578872036"
     },
     "user_tz": -180
    },
    "id": "ZHVHx-_GvRUg",
    "outputId": "a7677f73-f214-44aa-d853-44a12c28658b"
   },
   "outputs": [
    {
     "name": "stdout",
     "output_type": "stream",
     "text": [
      "+--------------+------------+-------------+----------+------------------+-----------+--------------------+------------------+\n",
      "|Square_Footage|Num_Bedrooms|Num_Bathrooms|Year_Built|          Lot_Size|Garage_Size|Neighborhood_Quality|       House_Price|\n",
      "+--------------+------------+-------------+----------+------------------+-----------+--------------------+------------------+\n",
      "|          1360|           2|            1|      1981|0.5996366396268326|          0|                   5| 262382.8522740563|\n",
      "|          4272|           3|            3|      2016|4.7530138494020395|          1|                   6|  985260.854490162|\n",
      "|          3592|           1|            2|      2016| 3.634822720478255|          0|                   9| 777977.3901185812|\n",
      "|           966|           1|            2|      1977|  2.73066687604351|          1|                   8| 229698.9186636115|\n",
      "|          4926|           2|            1|      1993| 4.699072554837388|          0|                   8|1041740.8589249004|\n",
      "|          3944|           5|            3|      1990| 2.475930043628728|          2|                   8| 879796.9835223783|\n",
      "|          3671|           1|            2|      2012| 4.911960066216673|          0|                   1| 814427.8614089885|\n",
      "|          3419|           1|            1|      1972| 2.805281407595683|          1|                   1| 703413.1109446795|\n",
      "|           630|           3|            3|      1997|1.0142859649909075|          1|                   8|173875.03721558454|\n",
      "|          2185|           4|            2|      1981|3.9416043760667474|          2|                   5| 504176.5060593679|\n",
      "|          1269|           2|            2|      2006|3.5550397628502823|          1|                   9|335332.59275293903|\n",
      "|          2891|           2|            3|      1982|3.9784402458751407|          0|                   2|    635097.3959198|\n",
      "|          2933|           5|            3|      1973| 4.781489129265565|          2|                   9| 701133.8041471172|\n",
      "|          1684|           5|            3|      1988|3.9942018619295814|          1|                   8| 440726.2848162878|\n",
      "|          3885|           2|            3|      1983| 3.251014709974911|          1|                   9|  838719.430503504|\n",
      "|          4617|           5|            1|      2005|4.3578900606237845|          0|                   4|1019192.6613592046|\n",
      "|          3404|           3|            3|      1977| 3.529608977095392|          0|                   1| 735850.8123421574|\n",
      "|           974|           2|            2|      1986| 2.336535755716654|          2|                   1|234261.64997473895|\n",
      "|          1582|           5|            2|      1956|4.4852889390879795|          1|                   5| 396246.3588887452|\n",
      "|          3058|           2|            1|      2017| 1.498552073529678|          0|                   2| 672852.0519810001|\n",
      "+--------------+------------+-------------+----------+------------------+-----------+--------------------+------------------+\n",
      "only showing top 20 rows\n",
      "\n"
     ]
    }
   ],
   "source": [
    "df_union = df.union(df1)\n",
    "df_union.show()"
   ]
  },
  {
   "cell_type": "code",
   "execution_count": 79,
   "metadata": {
    "colab": {
     "base_uri": "https://localhost:8080/"
    },
    "executionInfo": {
     "elapsed": 527,
     "status": "ok",
     "timestamp": 1739196169986,
     "user": {
      "displayName": "Sergey Bykov",
      "userId": "06208526556578872036"
     },
     "user_tz": -180
    },
    "id": "nP6CFPlHvfUW",
    "outputId": "5eed7c07-8012-4cda-b9fb-a3005183c26e"
   },
   "outputs": [
    {
     "data": {
      "text/plain": [
       "[Row(Square_Footage=1360, Num_Bedrooms=2, Num_Bathrooms=1, Year_Built=1981, Lot_Size=0.599, Garage_Size=0, Neighborhood_Quality=5, House_Price=262382.85),\n",
       " Row(Square_Footage=4272, Num_Bedrooms=3, Num_Bathrooms=2, Year_Built=2016, Lot_Size=4.753, Garage_Size=1, Neighborhood_Quality=6, House_Price=985260.85),\n",
       " Row(Square_Footage=3592, Num_Bedrooms=1, Num_Bathrooms=1, Year_Built=2016, Lot_Size=3.634, Garage_Size=0, Neighborhood_Quality=9, House_Price=777977.39),\n",
       " Row(Square_Footage=966, Num_Bedrooms=1, Num_Bathrooms=1, Year_Built=1977, Lot_Size=2.73, Garage_Size=1, Neighborhood_Quality=8, House_Price=229698.91),\n",
       " Row(Square_Footage=4926, Num_Bedrooms=2, Num_Bathrooms=2, Year_Built=1993, Lot_Size=4.699, Garage_Size=0, Neighborhood_Quality=8, House_Price=1041740.85)]"
      ]
     },
     "execution_count": 79,
     "metadata": {},
     "output_type": "execute_result"
    }
   ],
   "source": [
    "df_union.tail(5)"
   ]
  },
  {
   "cell_type": "markdown",
   "metadata": {
    "id": "gX5w6vQ6wR5i"
   },
   "source": [
    "### **Джойн двух таблиц (df1 и df2) по Garage_Size и Neighborhood_Quality**"
   ]
  },
  {
   "cell_type": "code",
   "execution_count": 80,
   "metadata": {
    "colab": {
     "base_uri": "https://localhost:8080/"
    },
    "executionInfo": {
     "elapsed": 1551,
     "status": "ok",
     "timestamp": 1739196171535,
     "user": {
      "displayName": "Sergey Bykov",
      "userId": "06208526556578872036"
     },
     "user_tz": -180
    },
    "id": "2OHJRx0fja2z",
    "outputId": "a75daf39-9dbd-4750-edd5-64ab7982b074"
   },
   "outputs": [
    {
     "name": "stdout",
     "output_type": "stream",
     "text": [
      "+-----------+--------------------+--------------+------------+-------------+----------+--------+-----------+-----------+--------+------------+\n",
      "|Garage_Size|Neighborhood_Quality|Square_Footage|Num_Bedrooms|Num_Bathrooms|Year_Built|Lot_Size|House_Price|Property_ID|Has_Pool|Has_Basement|\n",
      "+-----------+--------------------+--------------+------------+-------------+----------+--------+-----------+-----------+--------+------------+\n",
      "|          0|                   5|          1360|           2|            1|      1981|   0.599|  262382.85|          1|       1|           0|\n",
      "|          0|                   8|          4926|           2|            2|      1993|   4.699| 1041740.85|          5|       1|           0|\n",
      "|          0|                   9|          3592|           1|            1|      2016|   3.634|  777977.39|          3|       0|           1|\n",
      "|          1|                   6|          4272|           3|            2|      2016|   4.753|  985260.85|          2|       1|           1|\n",
      "|          1|                   8|           966|           1|            1|      1977|    2.73|  229698.91|          4|       0|           1|\n",
      "+-----------+--------------------+--------------+------------+-------------+----------+--------+-----------+-----------+--------+------------+\n",
      "\n"
     ]
    }
   ],
   "source": [
    "df_joined = df1.join(df2, on=[\"Garage_Size\", \"Neighborhood_Quality\"], how=\"inner\")\n",
    "\n",
    "df_joined.show()"
   ]
  },
  {
   "cell_type": "markdown",
   "metadata": {
    "id": "2yxVtX4XjzeZ"
   },
   "source": [
    "### **Создаем новую колонку Age как разность между текущим годом (2024) и Year_Built.**"
   ]
  },
  {
   "cell_type": "code",
   "execution_count": 81,
   "metadata": {
    "colab": {
     "base_uri": "https://localhost:8080/"
    },
    "executionInfo": {
     "elapsed": 1339,
     "status": "ok",
     "timestamp": 1739196172872,
     "user": {
      "displayName": "Sergey Bykov",
      "userId": "06208526556578872036"
     },
     "user_tz": -180
    },
    "id": "asol6OMFkhRY",
    "outputId": "bc3a03bc-aa21-4b23-ef81-e49eaacd01af"
   },
   "outputs": [
    {
     "name": "stdout",
     "output_type": "stream",
     "text": [
      "+-----------+--------------------+--------------+------------+-------------+----------+--------+-----------+-----------+--------+------------+---+\n",
      "|Garage_Size|Neighborhood_Quality|Square_Footage|Num_Bedrooms|Num_Bathrooms|Year_Built|Lot_Size|House_Price|Property_ID|Has_Pool|Has_Basement|Age|\n",
      "+-----------+--------------------+--------------+------------+-------------+----------+--------+-----------+-----------+--------+------------+---+\n",
      "|          0|                   5|          1360|           2|            1|      1981|   0.599|  262382.85|          1|       1|           0| 43|\n",
      "|          0|                   8|          4926|           2|            2|      1993|   4.699| 1041740.85|          5|       1|           0| 31|\n",
      "|          0|                   9|          3592|           1|            1|      2016|   3.634|  777977.39|          3|       0|           1|  8|\n",
      "|          1|                   6|          4272|           3|            2|      2016|   4.753|  985260.85|          2|       1|           1|  8|\n",
      "|          1|                   8|           966|           1|            1|      1977|    2.73|  229698.91|          4|       0|           1| 47|\n",
      "+-----------+--------------------+--------------+------------+-------------+----------+--------+-----------+-----------+--------+------------+---+\n",
      "\n"
     ]
    }
   ],
   "source": [
    "from pyspark.sql.functions import col, lit\n",
    "\n",
    "df_new_age = df_joined.withColumn(\"Age\", lit(2024) - col(\"Year_Built\"))\n",
    "\n",
    "df_new_age.show()"
   ]
  },
  {
   "cell_type": "markdown",
   "metadata": {
    "id": "WOwwElcSlZEZ"
   },
   "source": [
    "### **Удалим колонку `Neighborhood_Quality`**"
   ]
  },
  {
   "cell_type": "code",
   "execution_count": 1,
   "metadata": {
    "colab": {
     "base_uri": "https://localhost:8080/",
     "height": 1000
    },
    "executionInfo": {
     "elapsed": 644,
     "status": "error",
     "timestamp": 1739200599839,
     "user": {
      "displayName": "Sergey Bykov",
      "userId": "06208526556578872036"
     },
     "user_tz": -180
    },
    "id": "E0PfpMkimB_X",
    "outputId": "3bde839b-c61c-4c1c-d9aa-b53084b175be"
   },
   "outputs": [
    {
     "ename": "NameError",
     "evalue": "name 'df_new_age' is not defined",
     "output_type": "error",
     "traceback": [
      "\u001b[1;31m---------------------------------------------------------------------------\u001b[0m",
      "\u001b[1;31mNameError\u001b[0m                                 Traceback (most recent call last)",
      "\u001b[1;32m~\\AppData\\Local\\Temp\\ipykernel_13096\\2673566439.py\u001b[0m in \u001b[0;36m<module>\u001b[1;34m\u001b[0m\n\u001b[1;32m----> 1\u001b[1;33m \u001b[0mdf_del\u001b[0m \u001b[1;33m=\u001b[0m \u001b[0mdf_new_age\u001b[0m\u001b[1;33m.\u001b[0m\u001b[0mdrop\u001b[0m\u001b[1;33m(\u001b[0m\u001b[1;34m\"Neighborhood_Quality\"\u001b[0m\u001b[1;33m)\u001b[0m\u001b[1;33m\u001b[0m\u001b[1;33m\u001b[0m\u001b[0m\n\u001b[0m\u001b[0;32m      2\u001b[0m \u001b[1;33m\u001b[0m\u001b[0m\n\u001b[0;32m      3\u001b[0m \u001b[0mdf_del\u001b[0m\u001b[1;33m.\u001b[0m\u001b[0mshow\u001b[0m\u001b[1;33m(\u001b[0m\u001b[1;33m)\u001b[0m\u001b[1;33m\u001b[0m\u001b[1;33m\u001b[0m\u001b[0m\n",
      "\u001b[1;31mNameError\u001b[0m: name 'df_new_age' is not defined"
     ]
    }
   ],
   "source": [
    "df_del = df_new_age.drop(\"Neighborhood_Quality\")\n",
    "\n",
    "df_del.show()"
   ]
  },
  {
   "cell_type": "markdown",
   "metadata": {
    "id": "_RikJT3smnBM"
   },
   "source": [
    "### **Сортируем строки по `House_Price` в порядке убывания.**"
   ]
  },
  {
   "cell_type": "code",
   "execution_count": 83,
   "metadata": {
    "colab": {
     "base_uri": "https://localhost:8080/"
    },
    "executionInfo": {
     "elapsed": 1917,
     "status": "ok",
     "timestamp": 1739196176479,
     "user": {
      "displayName": "Sergey Bykov",
      "userId": "06208526556578872036"
     },
     "user_tz": -180
    },
    "id": "5JWBn2zHmzsz",
    "outputId": "7fefc92b-f34b-4448-f169-fc1c378bb92f"
   },
   "outputs": [
    {
     "name": "stdout",
     "output_type": "stream",
     "text": [
      "+-----------+--------------+------------+-------------+----------+--------+-----------+-----------+--------+------------+---+\n",
      "|Garage_Size|Square_Footage|Num_Bedrooms|Num_Bathrooms|Year_Built|Lot_Size|House_Price|Property_ID|Has_Pool|Has_Basement|Age|\n",
      "+-----------+--------------+------------+-------------+----------+--------+-----------+-----------+--------+------------+---+\n",
      "|          0|          4926|           2|            2|      1993|   4.699| 1041740.85|          5|       1|           0| 31|\n",
      "|          1|          4272|           3|            2|      2016|   4.753|  985260.85|          2|       1|           1|  8|\n",
      "|          0|          3592|           1|            1|      2016|   3.634|  777977.39|          3|       0|           1|  8|\n",
      "|          0|          1360|           2|            1|      1981|   0.599|  262382.85|          1|       1|           0| 43|\n",
      "|          1|           966|           1|            1|      1977|    2.73|  229698.91|          4|       0|           1| 47|\n",
      "+-----------+--------------+------------+-------------+----------+--------+-----------+-----------+--------+------------+---+\n",
      "\n"
     ]
    }
   ],
   "source": [
    "df_sorted = df_del.orderBy(col(\"House_Price\").desc())\n",
    "\n",
    "df_sorted.show()"
   ]
  },
  {
   "cell_type": "markdown",
   "metadata": {
    "id": "cMz3lzTEnI4j"
   },
   "source": [
    "### **Выводим строки с отсутствующими значениями в колонке `Garage_Size`.**"
   ]
  },
  {
   "cell_type": "code",
   "execution_count": 84,
   "metadata": {
    "colab": {
     "base_uri": "https://localhost:8080/"
    },
    "executionInfo": {
     "elapsed": 168,
     "status": "ok",
     "timestamp": 1739196176646,
     "user": {
      "displayName": "Sergey Bykov",
      "userId": "06208526556578872036"
     },
     "user_tz": -180
    },
    "id": "e8rLbmb_nXLx",
    "outputId": "8534121a-8096-4cf9-9353-df2229c24e43"
   },
   "outputs": [
    {
     "name": "stdout",
     "output_type": "stream",
     "text": [
      "+--------------+------------+-------------+----------+--------+-----------+--------------------+-----------+\n",
      "|Square_Footage|Num_Bedrooms|Num_Bathrooms|Year_Built|Lot_Size|Garage_Size|Neighborhood_Quality|House_Price|\n",
      "+--------------+------------+-------------+----------+--------+-----------+--------------------+-----------+\n",
      "+--------------+------------+-------------+----------+--------+-----------+--------------------+-----------+\n",
      "\n"
     ]
    }
   ],
   "source": [
    "df_nulls = df.filter(df.Garage_Size.isNull())\n",
    "# df_nulls = df.where(col(\"Garage_Size\").isNull())\n",
    "\n",
    "df_nulls.show()\n"
   ]
  },
  {
   "cell_type": "markdown",
   "metadata": {
    "id": "-jbG8-HWn11g"
   },
   "source": [
    "### **Считаем среднюю цену дома (`House_Price`).**"
   ]
  },
  {
   "cell_type": "code",
   "execution_count": 85,
   "metadata": {
    "colab": {
     "base_uri": "https://localhost:8080/"
    },
    "executionInfo": {
     "elapsed": 576,
     "status": "ok",
     "timestamp": 1739196177220,
     "user": {
      "displayName": "Sergey Bykov",
      "userId": "06208526556578872036"
     },
     "user_tz": -180
    },
    "id": "nmW6GIu_oZep",
    "outputId": "9b44b273-6e11-41e1-8569-958abb6b2387"
   },
   "outputs": [
    {
     "name": "stdout",
     "output_type": "stream",
     "text": [
      "618861.0186467685\n"
     ]
    }
   ],
   "source": [
    "from pyspark.sql.functions import avg\n",
    "\n",
    "avg_price = df.select(avg(\"House_Price\")).collect()[0][0]\n",
    "print(avg_price)"
   ]
  },
  {
   "cell_type": "code",
   "execution_count": 86,
   "metadata": {
    "colab": {
     "base_uri": "https://localhost:8080/"
    },
    "executionInfo": {
     "elapsed": 452,
     "status": "ok",
     "timestamp": 1739196177669,
     "user": {
      "displayName": "Sergey Bykov",
      "userId": "06208526556578872036"
     },
     "user_tz": -180
    },
    "id": "kjg8cT0zopfr",
    "outputId": "ab60c6bb-8ee5-4d37-96ee-430f829b5db4"
   },
   "outputs": [
    {
     "name": "stdout",
     "output_type": "stream",
     "text": [
      "+-----------------+\n",
      "| avg(House_Price)|\n",
      "+-----------------+\n",
      "|618861.0186467685|\n",
      "+-----------------+\n",
      "\n"
     ]
    }
   ],
   "source": [
    "df.select(avg(\"House_Price\")).show()"
   ]
  },
  {
   "cell_type": "code",
   "execution_count": 127,
   "metadata": {
    "colab": {
     "base_uri": "https://localhost:8080/"
    },
    "executionInfo": {
     "elapsed": 218,
     "status": "ok",
     "timestamp": 1739200835148,
     "user": {
      "displayName": "Sergey Bykov",
      "userId": "06208526556578872036"
     },
     "user_tz": -180
    },
    "id": "B0_amEaRcKo9",
    "outputId": "4e7ba949-5d86-4ead-a706-eef53e347cbf"
   },
   "outputs": [
    {
     "data": {
      "text/plain": [
       "(<function pyspark.sql.functions.round(col: 'ColumnOrName', scale: int = 0) -> pyspark.sql.column.Column>,)"
      ]
     },
     "execution_count": 127,
     "metadata": {},
     "output_type": "execute_result"
    }
   ],
   "source": [
    "import pyspark.sql.functions as F\n",
    "F.round,"
   ]
  },
  {
   "cell_type": "code",
   "execution_count": 87,
   "metadata": {
    "colab": {
     "base_uri": "https://localhost:8080/"
    },
    "executionInfo": {
     "elapsed": 618,
     "status": "ok",
     "timestamp": 1739196178286,
     "user": {
      "displayName": "Sergey Bykov",
      "userId": "06208526556578872036"
     },
     "user_tz": -180
    },
    "id": "I0BvjS3WpHBa",
    "outputId": "2d658eaa-62cb-4a51-bdf6-9dfc1c79e690"
   },
   "outputs": [
    {
     "name": "stdout",
     "output_type": "stream",
     "text": [
      "+-------------------+\n",
      "|Average_House_Price|\n",
      "+-------------------+\n",
      "|          618861.02|\n",
      "+-------------------+\n",
      "\n"
     ]
    }
   ],
   "source": [
    "from pyspark.sql.functions import round\n",
    "\n",
    "df.select(round(avg(\"House_Price\"), 2).alias(\"Average_House_Price\")).show()"
   ]
  },
  {
   "cell_type": "markdown",
   "metadata": {
    "id": "ls7tHCK3pMJE"
   },
   "source": [
    "### **Добавляем колонку `Price_per_SqFt` как отношение `House_Price` к `Square_Footage`.**"
   ]
  },
  {
   "cell_type": "code",
   "execution_count": 88,
   "metadata": {
    "colab": {
     "base_uri": "https://localhost:8080/"
    },
    "executionInfo": {
     "elapsed": 303,
     "status": "ok",
     "timestamp": 1739196178587,
     "user": {
      "displayName": "Sergey Bykov",
      "userId": "06208526556578872036"
     },
     "user_tz": -180
    },
    "id": "D86HHbS7pXRU",
    "outputId": "cd077734-e0b2-427c-8e56-e357021e5dc2"
   },
   "outputs": [
    {
     "name": "stdout",
     "output_type": "stream",
     "text": [
      "+--------------+------------+-------------+----------+------------------+-----------+--------------------+------------------+--------------+\n",
      "|Square_Footage|Num_Bedrooms|Num_Bathrooms|Year_Built|          Lot_Size|Garage_Size|Neighborhood_Quality|       House_Price|Price_per_SqFt|\n",
      "+--------------+------------+-------------+----------+------------------+-----------+--------------------+------------------+--------------+\n",
      "|          1360|           2|            1|      1981|0.5996366396268326|          0|                   5| 262382.8522740563|        192.93|\n",
      "|          4272|           3|            3|      2016|4.7530138494020395|          1|                   6|  985260.854490162|        230.63|\n",
      "|          3592|           1|            2|      2016| 3.634822720478255|          0|                   9| 777977.3901185812|        216.59|\n",
      "|           966|           1|            2|      1977|  2.73066687604351|          1|                   8| 229698.9186636115|        237.78|\n",
      "|          4926|           2|            1|      1993| 4.699072554837388|          0|                   8|1041740.8589249004|        211.48|\n",
      "|          3944|           5|            3|      1990| 2.475930043628728|          2|                   8| 879796.9835223783|        223.07|\n",
      "|          3671|           1|            2|      2012| 4.911960066216673|          0|                   1| 814427.8614089885|        221.85|\n",
      "|          3419|           1|            1|      1972| 2.805281407595683|          1|                   1| 703413.1109446795|        205.74|\n",
      "|           630|           3|            3|      1997|1.0142859649909075|          1|                   8|173875.03721558454|        275.99|\n",
      "|          2185|           4|            2|      1981|3.9416043760667474|          2|                   5| 504176.5060593679|        230.74|\n",
      "|          1269|           2|            2|      2006|3.5550397628502823|          1|                   9|335332.59275293903|        264.25|\n",
      "|          2891|           2|            3|      1982|3.9784402458751407|          0|                   2|    635097.3959198|        219.68|\n",
      "|          2933|           5|            3|      1973| 4.781489129265565|          2|                   9| 701133.8041471172|        239.05|\n",
      "|          1684|           5|            3|      1988|3.9942018619295814|          1|                   8| 440726.2848162878|        261.71|\n",
      "|          3885|           2|            3|      1983| 3.251014709974911|          1|                   9|  838719.430503504|        215.89|\n",
      "|          4617|           5|            1|      2005|4.3578900606237845|          0|                   4|1019192.6613592046|        220.75|\n",
      "|          3404|           3|            3|      1977| 3.529608977095392|          0|                   1| 735850.8123421574|        216.17|\n",
      "|           974|           2|            2|      1986| 2.336535755716654|          2|                   1|234261.64997473895|        240.52|\n",
      "|          1582|           5|            2|      1956|4.4852889390879795|          1|                   5| 396246.3588887452|        250.47|\n",
      "|          3058|           2|            1|      2017| 1.498552073529678|          0|                   2| 672852.0519810001|        220.03|\n",
      "+--------------+------------+-------------+----------+------------------+-----------+--------------------+------------------+--------------+\n",
      "only showing top 20 rows\n",
      "\n"
     ]
    }
   ],
   "source": [
    "df = df.withColumn(\"Price_per_SqFt\", round(col(\"House_Price\") / col(\"Square_Footage\"), 2))\n",
    "df.show()"
   ]
  },
  {
   "cell_type": "markdown",
   "metadata": {
    "id": "v7d5ynekp2zS"
   },
   "source": [
    "### **Считаем сумму площадей (`Square_Footage`) для домов с 2 спальнями.**"
   ]
  },
  {
   "cell_type": "code",
   "execution_count": 89,
   "metadata": {
    "colab": {
     "base_uri": "https://localhost:8080/"
    },
    "executionInfo": {
     "elapsed": 159,
     "status": "ok",
     "timestamp": 1739196178744,
     "user": {
      "displayName": "Sergey Bykov",
      "userId": "06208526556578872036"
     },
     "user_tz": -180
    },
    "id": "FGyCT5ytpixE",
    "outputId": "cd6f30b7-3340-4fbc-91b2-3be3b2080297"
   },
   "outputs": [
    {
     "name": "stdout",
     "output_type": "stream",
     "text": [
      "Общая площадь домов с 2 спальнями: 596122\n"
     ]
    }
   ],
   "source": [
    "from pyspark.sql.functions import col, sum\n",
    "\n",
    "total_sqft = df.filter(col(\"Num_Bedrooms\") == 2).select(sum(\"Square_Footage\")).collect()[0][0]\n",
    "\n",
    "print(f\"Общая площадь домов с 2 спальнями: {total_sqft}\")"
   ]
  },
  {
   "cell_type": "code",
   "execution_count": 90,
   "metadata": {
    "colab": {
     "base_uri": "https://localhost:8080/"
    },
    "executionInfo": {
     "elapsed": 444,
     "status": "ok",
     "timestamp": 1739196179187,
     "user": {
      "displayName": "Sergey Bykov",
      "userId": "06208526556578872036"
     },
     "user_tz": -180
    },
    "id": "E8XbKz7fqAIg",
    "outputId": "8d094ad8-4b96-4c58-d6e3-53340cf97c96"
   },
   "outputs": [
    {
     "name": "stdout",
     "output_type": "stream",
     "text": [
      "+--------------------+\n",
      "|Total_Square_Footage|\n",
      "+--------------------+\n",
      "|              596122|\n",
      "+--------------------+\n",
      "\n"
     ]
    }
   ],
   "source": [
    "df.filter(col(\"Num_Bedrooms\") == 2).agg(sum(\"Square_Footage\").alias(\"Total_Square_Footage\")).show()"
   ]
  },
  {
   "cell_type": "markdown",
   "metadata": {
    "id": "Kofl8Q6oqLJ-"
   },
   "source": [
    "### **Ищем среднюю и медианную цену дома.**"
   ]
  },
  {
   "cell_type": "code",
   "execution_count": 91,
   "metadata": {
    "colab": {
     "base_uri": "https://localhost:8080/"
    },
    "executionInfo": {
     "elapsed": 176,
     "status": "ok",
     "timestamp": 1739196179361,
     "user": {
      "displayName": "Sergey Bykov",
      "userId": "06208526556578872036"
     },
     "user_tz": -180
    },
    "id": "3aT7ldHnqYWu",
    "outputId": "7e04bd9f-ed4f-4d4b-8d45-cf3ebc7b5db9"
   },
   "outputs": [
    {
     "name": "stdout",
     "output_type": "stream",
     "text": [
      "Средняя цена дома: 618861.0186467685\n"
     ]
    }
   ],
   "source": [
    "avg_price = df.select(avg(\"House_Price\")).collect()[0][0]\n",
    "print(f\"Средняя цена дома: {avg_price}\")"
   ]
  },
  {
   "cell_type": "code",
   "execution_count": 92,
   "metadata": {
    "colab": {
     "base_uri": "https://localhost:8080/"
    },
    "executionInfo": {
     "elapsed": 442,
     "status": "ok",
     "timestamp": 1739196179802,
     "user": {
      "displayName": "Sergey Bykov",
      "userId": "06208526556578872036"
     },
     "user_tz": -180
    },
    "id": "KQOS0quLqn6H",
    "outputId": "87f94541-24a9-4cb1-f37e-cee52c4b72fd"
   },
   "outputs": [
    {
     "name": "stdout",
     "output_type": "stream",
     "text": [
      "Медианная цена дома: 626454.2784147046\n"
     ]
    }
   ],
   "source": [
    "from pyspark.sql.functions import percentile_approx\n",
    "\n",
    "median_price = df.approxQuantile(\"House_Price\", [0.5], 0.01)[0]\n",
    "\n",
    "print(f\"Медианная цена дома: {median_price}\")"
   ]
  },
  {
   "cell_type": "markdown",
   "metadata": {
    "id": "j8eaSo-dqzm1"
   },
   "source": [
    "### **Фильтруем дома старше 50 лет.**"
   ]
  },
  {
   "cell_type": "code",
   "execution_count": 93,
   "metadata": {
    "colab": {
     "base_uri": "https://localhost:8080/"
    },
    "executionInfo": {
     "elapsed": 345,
     "status": "ok",
     "timestamp": 1739196180145,
     "user": {
      "displayName": "Sergey Bykov",
      "userId": "06208526556578872036"
     },
     "user_tz": -180
    },
    "id": "cW9JP2rHq-Fl",
    "outputId": "600160fe-7ac0-44f0-96cf-87b616804649"
   },
   "outputs": [
    {
     "name": "stdout",
     "output_type": "stream",
     "text": [
      "+--------------+------------+-------------+----------+------------------+-----------+--------------------+------------------+--------------+\n",
      "|Square_Footage|Num_Bedrooms|Num_Bathrooms|Year_Built|          Lot_Size|Garage_Size|Neighborhood_Quality|       House_Price|Price_per_SqFt|\n",
      "+--------------+------------+-------------+----------+------------------+-----------+--------------------+------------------+--------------+\n",
      "|          3419|           1|            1|      1972| 2.805281407595683|          1|                   1| 703413.1109446795|        205.74|\n",
      "|          2933|           5|            3|      1973| 4.781489129265565|          2|                   9| 701133.8041471172|        239.05|\n",
      "|          1582|           5|            2|      1956|4.4852889390879795|          1|                   5| 396246.3588887452|        250.47|\n",
      "|          3234|           1|            3|      1969|2.5927486173528997|          0|                   7| 652166.1423658864|        201.66|\n",
      "|          3505|           2|            3|      1968| 4.433768069706617|          1|                   8| 745670.6371477235|        212.74|\n",
      "|          2028|           2|            3|      1967| 1.784789510533302|          2|                   2|434165.89663405064|        214.09|\n",
      "|          4390|           1|            1|      1960|4.1926944095446395|          2|                   5| 912468.0479046734|        207.85|\n",
      "|          2863|           1|            3|      1957|3.4149840482765392|          0|                   4| 582468.7977365239|        203.45|\n",
      "|          1863|           5|            1|      1953|1.3177548195267041|          1|                   5| 376388.0216286443|        202.03|\n",
      "|          2455|           3|            2|      1953| 4.951479892809876|          0|                  10| 527393.5128875901|        214.82|\n",
      "|          4343|           3|            3|      1955|  3.23784021146008|          1|                   1| 899382.8651584806|        207.09|\n",
      "|           661|           4|            1|      1964|2.1851617998560764|          0|                   3|147601.55157708153|         223.3|\n",
      "|          1775|           1|            2|      1955| 4.241154677998865|          2|                   1| 406069.2709127523|        228.77|\n",
      "|           837|           4|            1|      1967|2.1795852037065524|          1|                  10| 191117.1012230497|        228.34|\n",
      "|           992|           3|            2|      1966|3.1145679201879926|          2|                   5|248224.01965609606|        250.23|\n",
      "|          2562|           1|            3|      1971| 2.417319399317437|          2|                   6| 538349.0962151848|        210.13|\n",
      "|          3195|           1|            1|      1962| 3.913258464123758|          2|                   1| 663904.9927177994|        207.79|\n",
      "|          4061|           1|            1|      1952| 2.239790776852254|          0|                   6| 787420.4040749857|         193.9|\n",
      "|          2954|           5|            1|      1970|1.6620395884977202|          1|                   4| 627923.6171994702|        212.57|\n",
      "|          1304|           2|            3|      1960|2.4492340009182487|          1|                   9|277832.10571177263|        213.06|\n",
      "+--------------+------------+-------------+----------+------------------+-----------+--------------------+------------------+--------------+\n",
      "only showing top 20 rows\n",
      "\n"
     ]
    }
   ],
   "source": [
    "\n",
    "df_filtered = df.filter(lit(2024) - col(\"Year_Built\") > 50)\n",
    "\n",
    "df_filtered.show()\n"
   ]
  },
  {
   "cell_type": "markdown",
   "metadata": {
    "id": "OqanWMRUrJLx"
   },
   "source": [
    "### **Ищем дом с максимальной площадью.**"
   ]
  },
  {
   "cell_type": "code",
   "execution_count": 94,
   "metadata": {
    "colab": {
     "base_uri": "https://localhost:8080/"
    },
    "executionInfo": {
     "elapsed": 578,
     "status": "ok",
     "timestamp": 1739196180721,
     "user": {
      "displayName": "Sergey Bykov",
      "userId": "06208526556578872036"
     },
     "user_tz": -180
    },
    "id": "XeWaezBRrUbd",
    "outputId": "08147a5e-3a2c-47dd-fc53-9f8a55e214e8"
   },
   "outputs": [
    {
     "name": "stdout",
     "output_type": "stream",
     "text": [
      "+--------------+------------+-------------+----------+-----------------+-----------+--------------------+-----------------+--------------+\n",
      "|Square_Footage|Num_Bedrooms|Num_Bathrooms|Year_Built|         Lot_Size|Garage_Size|Neighborhood_Quality|      House_Price|Price_per_SqFt|\n",
      "+--------------+------------+-------------+----------+-----------------+-----------+--------------------+-----------------+--------------+\n",
      "|          4999|           5|            1|      1952|4.662712289043565|          2|                   5|1060976.488572305|        212.24|\n",
      "+--------------+------------+-------------+----------+-----------------+-----------+--------------------+-----------------+--------------+\n",
      "\n"
     ]
    }
   ],
   "source": [
    "from pyspark.sql.functions import max\n",
    "\n",
    "max_sqft = df.select(max(\"Square_Footage\")).collect()[0][0]\n",
    "\n",
    "house_with_max_sqft = df.filter(col(\"Square_Footage\") == max_sqft)\n",
    "\n",
    "house_with_max_sqft.show()"
   ]
  },
  {
   "cell_type": "code",
   "execution_count": 95,
   "metadata": {
    "colab": {
     "base_uri": "https://localhost:8080/"
    },
    "executionInfo": {
     "elapsed": 160,
     "status": "ok",
     "timestamp": 1739196180879,
     "user": {
      "displayName": "Sergey Bykov",
      "userId": "06208526556578872036"
     },
     "user_tz": -180
    },
    "id": "3nOz6iHire9o",
    "outputId": "cd5d571e-513e-416b-fecb-40d2dead41ba"
   },
   "outputs": [
    {
     "name": "stdout",
     "output_type": "stream",
     "text": [
      "+--------------+------------+-------------+----------+-----------------+-----------+--------------------+-----------------+--------------+\n",
      "|Square_Footage|Num_Bedrooms|Num_Bathrooms|Year_Built|         Lot_Size|Garage_Size|Neighborhood_Quality|      House_Price|Price_per_SqFt|\n",
      "+--------------+------------+-------------+----------+-----------------+-----------+--------------------+-----------------+--------------+\n",
      "|          4999|           5|            1|      1952|4.662712289043565|          2|                   5|1060976.488572305|        212.24|\n",
      "+--------------+------------+-------------+----------+-----------------+-----------+--------------------+-----------------+--------------+\n",
      "\n"
     ]
    }
   ],
   "source": [
    "house_with_max_sqft = df.orderBy(col(\"Square_Footage\").desc()).limit(1)\n",
    "house_with_max_sqft.show()"
   ]
  },
  {
   "cell_type": "markdown",
   "metadata": {
    "id": "3rg0Yp8mridQ"
   },
   "source": [
    "### **Считаем стандартное отклонение цены дома.**"
   ]
  },
  {
   "cell_type": "code",
   "execution_count": 96,
   "metadata": {
    "colab": {
     "base_uri": "https://localhost:8080/"
    },
    "executionInfo": {
     "elapsed": 491,
     "status": "ok",
     "timestamp": 1739196181369,
     "user": {
      "displayName": "Sergey Bykov",
      "userId": "06208526556578872036"
     },
     "user_tz": -180
    },
    "id": "xQl4HEYGrqZP",
    "outputId": "bffb9826-f890-41da-b2c8-bda5c26b92e2"
   },
   "outputs": [
    {
     "name": "stdout",
     "output_type": "stream",
     "text": [
      "Стандартное отклонение цены дома: 253568.0583754209\n"
     ]
    }
   ],
   "source": [
    "from pyspark.sql.functions import stddev\n",
    "\n",
    "stddev_price = df.select(stddev(\"House_Price\")).collect()[0][0]\n",
    "\n",
    "print(f\"Стандартное отклонение цены дома: {stddev_price}\")"
   ]
  },
  {
   "cell_type": "code",
   "execution_count": 97,
   "metadata": {
    "colab": {
     "base_uri": "https://localhost:8080/"
    },
    "executionInfo": {
     "elapsed": 329,
     "status": "ok",
     "timestamp": 1739196181697,
     "user": {
      "displayName": "Sergey Bykov",
      "userId": "06208526556578872036"
     },
     "user_tz": -180
    },
    "id": "nqQvQdEOr0_b",
    "outputId": "7ac37f45-1f0b-4089-f8c7-5961fb47ef08"
   },
   "outputs": [
    {
     "name": "stdout",
     "output_type": "stream",
     "text": [
      "+------------------+\n",
      "|StdDev_House_Price|\n",
      "+------------------+\n",
      "| 253568.0583754209|\n",
      "+------------------+\n",
      "\n"
     ]
    }
   ],
   "source": [
    "df.agg(stddev(\"House_Price\").alias(\"StdDev_House_Price\")).show()"
   ]
  },
  {
   "cell_type": "markdown",
   "metadata": {
    "id": "9DsApHsEsER0"
   },
   "source": [
    "### **Добавляем колонку с логарифмом цены дома (`log_price`)**"
   ]
  },
  {
   "cell_type": "code",
   "execution_count": 98,
   "metadata": {
    "colab": {
     "base_uri": "https://localhost:8080/"
    },
    "executionInfo": {
     "elapsed": 312,
     "status": "ok",
     "timestamp": 1739196182007,
     "user": {
      "displayName": "Sergey Bykov",
      "userId": "06208526556578872036"
     },
     "user_tz": -180
    },
    "id": "bLBRfNmTsYMr",
    "outputId": "697cc588-294a-4a9a-c789-cff157c1c7f8"
   },
   "outputs": [
    {
     "name": "stdout",
     "output_type": "stream",
     "text": [
      "+--------------+------------+-------------+----------+------------------+-----------+--------------------+------------------+--------------+------------------+\n",
      "|Square_Footage|Num_Bedrooms|Num_Bathrooms|Year_Built|          Lot_Size|Garage_Size|Neighborhood_Quality|       House_Price|Price_per_SqFt|         log_price|\n",
      "+--------------+------------+-------------+----------+------------------+-----------+--------------------+------------------+--------------+------------------+\n",
      "|          1360|           2|            1|      1981|0.5996366396268326|          0|                   5| 262382.8522740563|        192.93| 12.47755998435136|\n",
      "|          4272|           3|            3|      2016|4.7530138494020395|          1|                   6|  985260.854490162|        230.63| 13.80066171198734|\n",
      "|          3592|           1|            2|      2016| 3.634822720478255|          0|                   9| 777977.3901185812|        216.59|13.564452741193994|\n",
      "|           966|           1|            2|      1977|  2.73066687604351|          1|                   8| 229698.9186636115|        237.78|12.344524681063199|\n",
      "|          4926|           2|            1|      1993| 4.699072554837388|          0|                   8|1041740.8589249004|        211.48|13.856403774516085|\n",
      "|          3944|           5|            3|      1990| 2.475930043628728|          2|                   8| 879796.9835223783|        223.07|13.687446459296174|\n",
      "|          3671|           1|            2|      2012| 4.911960066216673|          0|                   1| 814427.8614089885|        221.85|  13.6102411351571|\n",
      "|          3419|           1|            1|      1972| 2.805281407595683|          1|                   1| 703413.1109446795|        205.74|13.463699638235115|\n",
      "|           630|           3|            3|      1997|1.0142859649909075|          1|                   8|173875.03721558454|        275.99|12.066092143262154|\n",
      "|          2185|           4|            2|      1981|3.9416043760667474|          2|                   5| 504176.5060593679|        230.74|  13.1306816961794|\n",
      "|          1269|           2|            2|      2006|3.5550397628502823|          1|                   9|335332.59275293903|        264.25|12.722878132481032|\n",
      "|          2891|           2|            3|      1982|3.9784402458751407|          0|                   2|    635097.3959198|        219.68| 13.36153364551467|\n",
      "|          2933|           5|            3|      1973| 4.781489129265565|          2|                   9| 701133.8041471172|        239.05|13.460454023903653|\n",
      "|          1684|           5|            3|      1988|3.9942018619295814|          1|                   8| 440726.2848162878|        261.71|12.996179292383204|\n",
      "|          3885|           2|            3|      1983| 3.251014709974911|          1|                   9|  838719.430503504|        215.89|13.639631520110251|\n",
      "|          4617|           5|            1|      2005|4.3578900606237845|          0|                   4|1019192.6613592046|        220.75|13.834521363380867|\n",
      "|          3404|           3|            3|      1977| 3.529608977095392|          0|                   1| 735850.8123421574|        216.17|13.508782676542397|\n",
      "|           974|           2|            2|      1986| 2.336535755716654|          2|                   1|234261.64997473895|        240.52|12.364193931947216|\n",
      "|          1582|           5|            2|      1956|4.4852889390879795|          1|                   5| 396246.3588887452|        250.47|12.889791415207107|\n",
      "|          3058|           2|            1|      2017| 1.498552073529678|          0|                   2| 672852.0519810001|        220.03|13.419280750850703|\n",
      "+--------------+------------+-------------+----------+------------------+-----------+--------------------+------------------+--------------+------------------+\n",
      "only showing top 20 rows\n",
      "\n"
     ]
    }
   ],
   "source": [
    "from pyspark.sql.functions import log\n",
    "\n",
    "df = df.withColumn(\"log_price\", log(col(\"House_Price\")))\n",
    "\n",
    "df.show()"
   ]
  },
  {
   "cell_type": "markdown",
   "metadata": {
    "id": "lPOWaBvnswmB"
   },
   "source": [
    "### **Преобразуем `Year_Built` в строку**"
   ]
  },
  {
   "cell_type": "code",
   "execution_count": 99,
   "metadata": {
    "colab": {
     "base_uri": "https://localhost:8080/"
    },
    "executionInfo": {
     "elapsed": 195,
     "status": "ok",
     "timestamp": 1739196182201,
     "user": {
      "displayName": "Sergey Bykov",
      "userId": "06208526556578872036"
     },
     "user_tz": -180
    },
    "id": "QuOLMk9ns4ze",
    "outputId": "c2b63c61-7b06-471d-a012-4fd8fcfa6212"
   },
   "outputs": [
    {
     "name": "stdout",
     "output_type": "stream",
     "text": [
      "+--------------+------------+-------------+----------+------------------+-----------+--------------------+------------------+--------------+------------------+\n",
      "|Square_Footage|Num_Bedrooms|Num_Bathrooms|Year_Built|          Lot_Size|Garage_Size|Neighborhood_Quality|       House_Price|Price_per_SqFt|         log_price|\n",
      "+--------------+------------+-------------+----------+------------------+-----------+--------------------+------------------+--------------+------------------+\n",
      "|          1360|           2|            1|      1981|0.5996366396268326|          0|                   5| 262382.8522740563|        192.93| 12.47755998435136|\n",
      "|          4272|           3|            3|      2016|4.7530138494020395|          1|                   6|  985260.854490162|        230.63| 13.80066171198734|\n",
      "|          3592|           1|            2|      2016| 3.634822720478255|          0|                   9| 777977.3901185812|        216.59|13.564452741193994|\n",
      "|           966|           1|            2|      1977|  2.73066687604351|          1|                   8| 229698.9186636115|        237.78|12.344524681063199|\n",
      "|          4926|           2|            1|      1993| 4.699072554837388|          0|                   8|1041740.8589249004|        211.48|13.856403774516085|\n",
      "|          3944|           5|            3|      1990| 2.475930043628728|          2|                   8| 879796.9835223783|        223.07|13.687446459296174|\n",
      "|          3671|           1|            2|      2012| 4.911960066216673|          0|                   1| 814427.8614089885|        221.85|  13.6102411351571|\n",
      "|          3419|           1|            1|      1972| 2.805281407595683|          1|                   1| 703413.1109446795|        205.74|13.463699638235115|\n",
      "|           630|           3|            3|      1997|1.0142859649909075|          1|                   8|173875.03721558454|        275.99|12.066092143262154|\n",
      "|          2185|           4|            2|      1981|3.9416043760667474|          2|                   5| 504176.5060593679|        230.74|  13.1306816961794|\n",
      "|          1269|           2|            2|      2006|3.5550397628502823|          1|                   9|335332.59275293903|        264.25|12.722878132481032|\n",
      "|          2891|           2|            3|      1982|3.9784402458751407|          0|                   2|    635097.3959198|        219.68| 13.36153364551467|\n",
      "|          2933|           5|            3|      1973| 4.781489129265565|          2|                   9| 701133.8041471172|        239.05|13.460454023903653|\n",
      "|          1684|           5|            3|      1988|3.9942018619295814|          1|                   8| 440726.2848162878|        261.71|12.996179292383204|\n",
      "|          3885|           2|            3|      1983| 3.251014709974911|          1|                   9|  838719.430503504|        215.89|13.639631520110251|\n",
      "|          4617|           5|            1|      2005|4.3578900606237845|          0|                   4|1019192.6613592046|        220.75|13.834521363380867|\n",
      "|          3404|           3|            3|      1977| 3.529608977095392|          0|                   1| 735850.8123421574|        216.17|13.508782676542397|\n",
      "|           974|           2|            2|      1986| 2.336535755716654|          2|                   1|234261.64997473895|        240.52|12.364193931947216|\n",
      "|          1582|           5|            2|      1956|4.4852889390879795|          1|                   5| 396246.3588887452|        250.47|12.889791415207107|\n",
      "|          3058|           2|            1|      2017| 1.498552073529678|          0|                   2| 672852.0519810001|        220.03|13.419280750850703|\n",
      "+--------------+------------+-------------+----------+------------------+-----------+--------------------+------------------+--------------+------------------+\n",
      "only showing top 20 rows\n",
      "\n"
     ]
    }
   ],
   "source": [
    "from pyspark.sql.functions import col\n",
    "\n",
    "df = df.withColumn(\"Year_Built\", col(\"Year_Built\").cast(\"string\"))\n",
    "\n",
    "df.show()"
   ]
  },
  {
   "cell_type": "code",
   "execution_count": 100,
   "metadata": {
    "colab": {
     "base_uri": "https://localhost:8080/"
    },
    "executionInfo": {
     "elapsed": 3,
     "status": "ok",
     "timestamp": 1739196182201,
     "user": {
      "displayName": "Sergey Bykov",
      "userId": "06208526556578872036"
     },
     "user_tz": -180
    },
    "id": "0dDIk6PttBHW",
    "outputId": "2d4de659-2fa1-4b88-80c6-89582b4f3308"
   },
   "outputs": [
    {
     "name": "stdout",
     "output_type": "stream",
     "text": [
      "root\n",
      " |-- Square_Footage: integer (nullable = true)\n",
      " |-- Num_Bedrooms: integer (nullable = true)\n",
      " |-- Num_Bathrooms: integer (nullable = true)\n",
      " |-- Year_Built: string (nullable = true)\n",
      " |-- Lot_Size: double (nullable = true)\n",
      " |-- Garage_Size: integer (nullable = true)\n",
      " |-- Neighborhood_Quality: integer (nullable = true)\n",
      " |-- House_Price: double (nullable = true)\n",
      " |-- Price_per_SqFt: double (nullable = true)\n",
      " |-- log_price: double (nullable = true)\n",
      "\n"
     ]
    }
   ],
   "source": [
    "df.printSchema()"
   ]
  },
  {
   "cell_type": "markdown",
   "metadata": {
    "id": "n4hqeg9gtDja"
   },
   "source": [
    "### **Ищем среднюю цену дома по количеству спален и ванных комнат.**"
   ]
  },
  {
   "cell_type": "code",
   "execution_count": 101,
   "metadata": {
    "colab": {
     "base_uri": "https://localhost:8080/"
    },
    "executionInfo": {
     "elapsed": 611,
     "status": "ok",
     "timestamp": 1739196182811,
     "user": {
      "displayName": "Sergey Bykov",
      "userId": "06208526556578872036"
     },
     "user_tz": -180
    },
    "id": "P3nrz5UMtPGm",
    "outputId": "d4fa0e74-08ae-4c57-e600-14b516fb1b8e"
   },
   "outputs": [
    {
     "name": "stdout",
     "output_type": "stream",
     "text": [
      "+------------+-------------+-------------------+\n",
      "|Num_Bedrooms|Num_Bathrooms|Average_House_Price|\n",
      "+------------+-------------+-------------------+\n",
      "|           3|            1|  646951.2800310225|\n",
      "|           2|            2|  603984.8664469932|\n",
      "|           2|            3|   586720.566795518|\n",
      "|           1|            2|  604145.6999208825|\n",
      "|           1|            1|  635305.1364749444|\n",
      "|           1|            3|  584767.7682546725|\n",
      "|           3|            3|  652029.6223266163|\n",
      "|           4|            3|  647683.5982383563|\n",
      "|           2|            1|  614220.2066095247|\n",
      "|           3|            2|  660775.7950384454|\n",
      "|           5|            2|   634321.001171252|\n",
      "|           5|            1|   587829.439092275|\n",
      "|           5|            3|  618056.1774115184|\n",
      "|           4|            2|  620823.0950673359|\n",
      "|           4|            1|  598168.6729521073|\n",
      "+------------+-------------+-------------------+\n",
      "\n"
     ]
    }
   ],
   "source": [
    "from pyspark.sql.functions import avg\n",
    "\n",
    "df_avg_price = df.groupBy(\"Num_Bedrooms\", \"Num_Bathrooms\").agg(avg(\"House_Price\").alias(\"Average_House_Price\"))\n",
    "\n",
    "df_avg_price.show()"
   ]
  },
  {
   "cell_type": "markdown",
   "metadata": {
    "id": "0HoOhcGPtayM"
   },
   "source": [
    "### **Считаем долю домов с гаражом (`Garage_Size > 0`)**"
   ]
  },
  {
   "cell_type": "code",
   "execution_count": 102,
   "metadata": {
    "colab": {
     "base_uri": "https://localhost:8080/"
    },
    "executionInfo": {
     "elapsed": 380,
     "status": "ok",
     "timestamp": 1739196183189,
     "user": {
      "displayName": "Sergey Bykov",
      "userId": "06208526556578872036"
     },
     "user_tz": -180
    },
    "id": "oMxsNGPsuEs3",
    "outputId": "2822e669-a634-4ce8-eef9-1f3a63b14984"
   },
   "outputs": [
    {
     "name": "stdout",
     "output_type": "stream",
     "text": [
      "Доля домов с гаражом: 0.679\n"
     ]
    }
   ],
   "source": [
    "total_houses = df.count()\n",
    "\n",
    "houses_with_garage = df.filter(col(\"Garage_Size\") > 0).count()\n",
    "\n",
    "garage_ratio = houses_with_garage / total_houses\n",
    "\n",
    "print(f\"Доля домов с гаражом: {garage_ratio}\")\n",
    "\n",
    "\n"
   ]
  },
  {
   "cell_type": "code",
   "execution_count": 2,
   "metadata": {
    "colab": {
     "base_uri": "https://localhost:8080/",
     "height": 356
    },
    "executionInfo": {
     "elapsed": 161,
     "status": "error",
     "timestamp": 1739201064921,
     "user": {
      "displayName": "Sergey Bykov",
      "userId": "06208526556578872036"
     },
     "user_tz": -180
    },
    "id": "-iJHHanEdKC6",
    "outputId": "737aac76-6817-4794-cf89-c45cf98d0d33"
   },
   "outputs": [
    {
     "ename": "NameError",
     "evalue": "name 'df' is not defined",
     "output_type": "error",
     "traceback": [
      "\u001b[1;31m---------------------------------------------------------------------------\u001b[0m",
      "\u001b[1;31mNameError\u001b[0m                                 Traceback (most recent call last)",
      "\u001b[1;32m~\\AppData\\Local\\Temp\\ipykernel_13096\\2109814183.py\u001b[0m in \u001b[0;36m<module>\u001b[1;34m\u001b[0m\n\u001b[0;32m      1\u001b[0m (\n\u001b[1;32m----> 2\u001b[1;33m     \u001b[0mdf\u001b[0m\u001b[1;33m\u001b[0m\u001b[1;33m\u001b[0m\u001b[0m\n\u001b[0m\u001b[0;32m      3\u001b[0m     \u001b[1;33m.\u001b[0m\u001b[0mfilter\u001b[0m\u001b[1;33m(\u001b[0m\u001b[0mcol\u001b[0m\u001b[1;33m(\u001b[0m\u001b[1;34m\"Square_Footage\"\u001b[0m\u001b[1;33m)\u001b[0m \u001b[1;33m>\u001b[0m \u001b[1;36m2000\u001b[0m\u001b[1;33m)\u001b[0m\u001b[1;33m\u001b[0m\u001b[1;33m\u001b[0m\u001b[0m\n\u001b[0;32m      4\u001b[0m     \u001b[1;33m.\u001b[0m\u001b[0mfilter\u001b[0m\u001b[1;33m(\u001b[0m\u001b[0mcol\u001b[0m\u001b[1;33m(\u001b[0m\u001b[1;34m\"Square_Footage\"\u001b[0m\u001b[1;33m)\u001b[0m \u001b[1;33m>\u001b[0m \u001b[1;36m2000\u001b[0m\u001b[1;33m)\u001b[0m\u001b[1;33m\u001b[0m\u001b[1;33m\u001b[0m\u001b[0m\n\u001b[0;32m      5\u001b[0m     \u001b[1;33m.\u001b[0m\u001b[0mfilter\u001b[0m\u001b[1;33m(\u001b[0m\u001b[0mcol\u001b[0m\u001b[1;33m(\u001b[0m\u001b[1;34m\"Square_Footage\"\u001b[0m\u001b[1;33m)\u001b[0m \u001b[1;33m>\u001b[0m \u001b[1;36m2000\u001b[0m\u001b[1;33m)\u001b[0m\u001b[1;33m\u001b[0m\u001b[1;33m\u001b[0m\u001b[0m\n",
      "\u001b[1;31mNameError\u001b[0m: name 'df' is not defined"
     ]
    }
   ],
   "source": [
    "(\n",
    "    df\n",
    "    .filter(col(\"Square_Footage\") > 2000)\n",
    "    .filter(col(\"Square_Footage\") > 2000)\n",
    "    .filter(col(\"Square_Footage\") > 2000)\n",
    ")"
   ]
  },
  {
   "cell_type": "markdown",
   "metadata": {
    "id": "aheJMb7TuO0G"
   },
   "source": [
    "### **Создаем новый DataFrame с домами, у которых площадь больше 2000.**"
   ]
  },
  {
   "cell_type": "code",
   "execution_count": 103,
   "metadata": {
    "colab": {
     "base_uri": "https://localhost:8080/"
    },
    "executionInfo": {
     "elapsed": 171,
     "status": "ok",
     "timestamp": 1739196183359,
     "user": {
      "displayName": "Sergey Bykov",
      "userId": "06208526556578872036"
     },
     "user_tz": -180
    },
    "id": "2BRMwqw0uXnb",
    "outputId": "6d0047f0-cc6d-42aa-a2bd-81a3aae47b0d"
   },
   "outputs": [
    {
     "name": "stdout",
     "output_type": "stream",
     "text": [
      "+--------------+------------+-------------+----------+------------------+-----------+--------------------+------------------+--------------+------------------+\n",
      "|Square_Footage|Num_Bedrooms|Num_Bathrooms|Year_Built|          Lot_Size|Garage_Size|Neighborhood_Quality|       House_Price|Price_per_SqFt|         log_price|\n",
      "+--------------+------------+-------------+----------+------------------+-----------+--------------------+------------------+--------------+------------------+\n",
      "|          4272|           3|            3|      2016|4.7530138494020395|          1|                   6|  985260.854490162|        230.63| 13.80066171198734|\n",
      "|          3592|           1|            2|      2016| 3.634822720478255|          0|                   9| 777977.3901185812|        216.59|13.564452741193994|\n",
      "|          4926|           2|            1|      1993| 4.699072554837388|          0|                   8|1041740.8589249004|        211.48|13.856403774516085|\n",
      "|          3944|           5|            3|      1990| 2.475930043628728|          2|                   8| 879796.9835223783|        223.07|13.687446459296174|\n",
      "|          3671|           1|            2|      2012| 4.911960066216673|          0|                   1| 814427.8614089885|        221.85|  13.6102411351571|\n",
      "|          3419|           1|            1|      1972| 2.805281407595683|          1|                   1| 703413.1109446795|        205.74|13.463699638235115|\n",
      "|          2185|           4|            2|      1981|3.9416043760667474|          2|                   5| 504176.5060593679|        230.74|  13.1306816961794|\n",
      "|          2891|           2|            3|      1982|3.9784402458751407|          0|                   2|    635097.3959198|        219.68| 13.36153364551467|\n",
      "|          2933|           5|            3|      1973| 4.781489129265565|          2|                   9| 701133.8041471172|        239.05|13.460454023903653|\n",
      "|          3885|           2|            3|      1983| 3.251014709974911|          1|                   9|  838719.430503504|        215.89|13.639631520110251|\n",
      "|          4617|           5|            1|      2005|4.3578900606237845|          0|                   4|1019192.6613592046|        220.75|13.834521363380867|\n",
      "|          3404|           3|            3|      1977| 3.529608977095392|          0|                   1| 735850.8123421574|        216.17|13.508782676542397|\n",
      "|          3058|           2|            1|      2017| 1.498552073529678|          0|                   2| 672852.0519810001|        220.03|13.419280750850703|\n",
      "|          2547|           4|            2|      1986| 3.715885737089259|          2|                   8| 586086.5685389101|        230.11| 13.28122278553056|\n",
      "|          3247|           1|            2|      2005| 4.467035547233406|          1|                  10| 740174.0146550778|        227.96|13.514640592475057|\n",
      "|          2306|           1|            2|      2014| 3.637739385742356|          2|                   5| 530824.1967752124|        230.19|13.182186165885778|\n",
      "|          3234|           1|            3|      1969|2.5927486173528997|          0|                   7| 652166.1423658864|        201.66|13.388054628027376|\n",
      "|          3505|           2|            3|      1968| 4.433768069706617|          1|                   8| 745670.6371477235|        212.74|13.522039276529886|\n",
      "|          2399|           4|            1|      1978|1.4154641381124105|          1|                  10|513161.95119306416|        213.91|13.148346768665395|\n",
      "|          2028|           2|            3|      1967| 1.784789510533302|          2|                   2|434165.89663405064|        214.09|12.981181990352377|\n",
      "+--------------+------------+-------------+----------+------------------+-----------+--------------------+------------------+--------------+------------------+\n",
      "only showing top 20 rows\n",
      "\n"
     ]
    }
   ],
   "source": [
    "df_large_houses = df.filter(col(\"Square_Footage\") > 2000)\n",
    "\n",
    "df_large_houses.show()"
   ]
  },
  {
   "cell_type": "code",
   "execution_count": 104,
   "metadata": {
    "colab": {
     "base_uri": "https://localhost:8080/"
    },
    "executionInfo": {
     "elapsed": 3,
     "status": "ok",
     "timestamp": 1739196183359,
     "user": {
      "displayName": "Sergey Bykov",
      "userId": "06208526556578872036"
     },
     "user_tz": -180
    },
    "id": "xxTWSETquidi",
    "outputId": "03723313-dbd9-4946-9b1a-180d7cfa4881"
   },
   "outputs": [
    {
     "name": "stdout",
     "output_type": "stream",
     "text": [
      "+--------------+------------+-------------+----------+------------------+-----------+--------------------+------------------+--------------+------------------+\n",
      "|Square_Footage|Num_Bedrooms|Num_Bathrooms|Year_Built|          Lot_Size|Garage_Size|Neighborhood_Quality|       House_Price|Price_per_SqFt|         log_price|\n",
      "+--------------+------------+-------------+----------+------------------+-----------+--------------------+------------------+--------------+------------------+\n",
      "|          4272|           3|            3|      2016|4.7530138494020395|          1|                   6|  985260.854490162|        230.63| 13.80066171198734|\n",
      "|          3592|           1|            2|      2016| 3.634822720478255|          0|                   9| 777977.3901185812|        216.59|13.564452741193994|\n",
      "|          4926|           2|            1|      1993| 4.699072554837388|          0|                   8|1041740.8589249004|        211.48|13.856403774516085|\n",
      "|          3944|           5|            3|      1990| 2.475930043628728|          2|                   8| 879796.9835223783|        223.07|13.687446459296174|\n",
      "|          3671|           1|            2|      2012| 4.911960066216673|          0|                   1| 814427.8614089885|        221.85|  13.6102411351571|\n",
      "|          3419|           1|            1|      1972| 2.805281407595683|          1|                   1| 703413.1109446795|        205.74|13.463699638235115|\n",
      "|          2185|           4|            2|      1981|3.9416043760667474|          2|                   5| 504176.5060593679|        230.74|  13.1306816961794|\n",
      "|          2891|           2|            3|      1982|3.9784402458751407|          0|                   2|    635097.3959198|        219.68| 13.36153364551467|\n",
      "|          2933|           5|            3|      1973| 4.781489129265565|          2|                   9| 701133.8041471172|        239.05|13.460454023903653|\n",
      "|          3885|           2|            3|      1983| 3.251014709974911|          1|                   9|  838719.430503504|        215.89|13.639631520110251|\n",
      "|          4617|           5|            1|      2005|4.3578900606237845|          0|                   4|1019192.6613592046|        220.75|13.834521363380867|\n",
      "|          3404|           3|            3|      1977| 3.529608977095392|          0|                   1| 735850.8123421574|        216.17|13.508782676542397|\n",
      "|          3058|           2|            1|      2017| 1.498552073529678|          0|                   2| 672852.0519810001|        220.03|13.419280750850703|\n",
      "|          2547|           4|            2|      1986| 3.715885737089259|          2|                   8| 586086.5685389101|        230.11| 13.28122278553056|\n",
      "|          3247|           1|            2|      2005| 4.467035547233406|          1|                  10| 740174.0146550778|        227.96|13.514640592475057|\n",
      "|          2306|           1|            2|      2014| 3.637739385742356|          2|                   5| 530824.1967752124|        230.19|13.182186165885778|\n",
      "|          3234|           1|            3|      1969|2.5927486173528997|          0|                   7| 652166.1423658864|        201.66|13.388054628027376|\n",
      "|          3505|           2|            3|      1968| 4.433768069706617|          1|                   8| 745670.6371477235|        212.74|13.522039276529886|\n",
      "|          2399|           4|            1|      1978|1.4154641381124105|          1|                  10|513161.95119306416|        213.91|13.148346768665395|\n",
      "|          2028|           2|            3|      1967| 1.784789510533302|          2|                   2|434165.89663405064|        214.09|12.981181990352377|\n",
      "+--------------+------------+-------------+----------+------------------+-----------+--------------------+------------------+--------------+------------------+\n",
      "only showing top 20 rows\n",
      "\n"
     ]
    }
   ],
   "source": [
    "df_large_houses = df.where(col(\"Square_Footage\") > 2000)\n",
    "df_large_houses.show()"
   ]
  },
  {
   "cell_type": "markdown",
   "metadata": {
    "id": "6YDuo_cuunhF"
   },
   "source": [
    "### **Сортируем дома по возрасту и цене.**"
   ]
  },
  {
   "cell_type": "code",
   "execution_count": 105,
   "metadata": {
    "colab": {
     "base_uri": "https://localhost:8080/"
    },
    "executionInfo": {
     "elapsed": 662,
     "status": "ok",
     "timestamp": 1739196184020,
     "user": {
      "displayName": "Sergey Bykov",
      "userId": "06208526556578872036"
     },
     "user_tz": -180
    },
    "id": "8NFTAH83uuiT",
    "outputId": "6adcb6a8-dd5d-44ec-b0fd-845eb00c352e"
   },
   "outputs": [
    {
     "name": "stdout",
     "output_type": "stream",
     "text": [
      "+--------------+------------+-------------+----------+------------------+-----------+--------------------+------------------+--------------+------------------+---+\n",
      "|Square_Footage|Num_Bedrooms|Num_Bathrooms|Year_Built|          Lot_Size|Garage_Size|Neighborhood_Quality|       House_Price|Price_per_SqFt|         log_price|Age|\n",
      "+--------------+------------+-------------+----------+------------------+-----------+--------------------+------------------+--------------+------------------+---+\n",
      "|          4908|           2|            3|      2022|1.8413404273617024|          1|                   9|1058290.6809403487|        215.63|13.872165599355007|2.0|\n",
      "|          4474|           2|            2|      2022|3.4097019977689786|          0|                   2| 985699.1860734548|        220.32| 13.80110650191864|2.0|\n",
      "|          3957|           3|            3|      2022| 2.813904680042026|          0|                   5| 885550.3826256534|        223.79|13.693964631961533|2.0|\n",
      "|          3656|           2|            2|      2022| 4.521358640057602|          1|                   9| 856066.3005338378|        234.15|13.660103106019152|2.0|\n",
      "|          3568|           2|            3|      2022|3.9462306765570943|          1|                   2| 818706.7764361517|        229.46|13.615481272398993|2.0|\n",
      "|          3624|           2|            1|      2022|2.0617806582472773|          1|                   3| 786580.3015186453|        217.05|13.575450096101624|2.0|\n",
      "|          3361|           4|            1|      2022|1.6413599998131723|          2|                   3| 762769.5055574658|        226.95|13.544711174926428|2.0|\n",
      "|          2636|           4|            1|      2022|3.9560244589094435|          1|                   8| 645781.7324767867|        244.99|13.378216850249046|2.0|\n",
      "|          1650|           5|            2|      2022| 4.098730611284238|          2|                   9| 474045.8427124246|         287.3|13.069059310583834|2.0|\n",
      "|          1378|           4|            2|      2022|3.3439490617828507|          0|                   3| 384461.3548261602|         279.0|12.859598555272344|2.0|\n",
      "|          1138|           2|            3|      2022|1.9595561346277508|          2|                   9|315357.48101832974|        277.12|12.661462134716169|2.0|\n",
      "|           762|           2|            3|      2022|3.3488269407478084|          0|                  10|237070.70570459962|        311.12|12.376113711930168|2.0|\n",
      "|           594|           2|            2|      2022|1.0104836769676253|          1|                   9|158856.84303466187|        267.44|11.975758717363837|2.0|\n",
      "|          4094|           4|            1|      2021| 3.795748009688997|          1|                  10| 933332.7201261587|        227.98| 13.74651702946942|3.0|\n",
      "|          3784|           4|            1|      2021|3.8024740886114357|          1|                   5| 870504.8285910133|        230.05|13.676828585091727|3.0|\n",
      "|          3447|           5|            3|      2021| 4.264243207781151|          2|                   3| 830557.1687018349|        240.95|13.629852042152619|3.0|\n",
      "|          3499|           5|            1|      2021|3.5004735940275373|          1|                   5| 804433.8093218554|         229.9|13.597893966482031|3.0|\n",
      "|          3370|           5|            3|      2021|1.6154301142779064|          1|                   2| 769318.6038261497|        228.28| 13.55326047195217|3.0|\n",
      "|          2136|           4|            3|      2021|3.8130299713784757|          2|                   3| 551859.0856947603|        258.36|13.221048013131387|3.0|\n",
      "|          2105|           3|            1|      2021|0.5435909723343548|          1|                  10|  472291.952524426|        224.37|13.065352616832472|3.0|\n",
      "+--------------+------------+-------------+----------+------------------+-----------+--------------------+------------------+--------------+------------------+---+\n",
      "only showing top 20 rows\n",
      "\n"
     ]
    }
   ],
   "source": [
    "df = df.withColumn(\"Age\", lit(2024) - col(\"Year_Built\"))\n",
    "\n",
    "df_sorted = df.orderBy(col(\"Age\").asc(), col(\"House_Price\").desc())\n",
    "\n",
    "df_sorted.show()"
   ]
  },
  {
   "cell_type": "markdown",
   "metadata": {
    "id": "Jz4IzubEvGlj"
   },
   "source": [
    "### **Вывщдим среднюю цену дома для домов с гаражом и без гаража**"
   ]
  },
  {
   "cell_type": "code",
   "execution_count": 106,
   "metadata": {
    "colab": {
     "base_uri": "https://localhost:8080/"
    },
    "executionInfo": {
     "elapsed": 471,
     "status": "ok",
     "timestamp": 1739196184489,
     "user": {
      "displayName": "Sergey Bykov",
      "userId": "06208526556578872036"
     },
     "user_tz": -180
    },
    "id": "RpU2RVr3vTLr",
    "outputId": "c715073f-c6f5-41c1-90d5-ddac68f6f682"
   },
   "outputs": [
    {
     "name": "stdout",
     "output_type": "stream",
     "text": [
      "+----------+-------------------+\n",
      "|Has_Garage|Average_House_Price|\n",
      "+----------+-------------------+\n",
      "|        No|  606031.5052246426|\n",
      "|       Yes|  624926.2230775522|\n",
      "+----------+-------------------+\n",
      "\n"
     ]
    }
   ],
   "source": [
    "from pyspark.sql.functions import col, when, avg\n",
    "df = df.withColumn(\"Has_Garage\", when(col(\"Garage_Size\") > 0, \"Yes\").otherwise(\"No\"))\n",
    "\n",
    "df_avg_price = df.groupBy(\"Has_Garage\").agg(avg(\"House_Price\").alias(\"Average_House_Price\"))\n",
    "\n",
    "df_avg_price.show()"
   ]
  },
  {
   "cell_type": "markdown",
   "metadata": {
    "id": "FgFWX0Khu3ts"
   },
   "source": [
    "### **Заменяем все нулевые значения в Garage_Size на 1.**"
   ]
  },
  {
   "cell_type": "code",
   "execution_count": 107,
   "metadata": {
    "colab": {
     "base_uri": "https://localhost:8080/"
    },
    "executionInfo": {
     "elapsed": 166,
     "status": "ok",
     "timestamp": 1739196184653,
     "user": {
      "displayName": "Sergey Bykov",
      "userId": "06208526556578872036"
     },
     "user_tz": -180
    },
    "id": "WhN0CDFmvBe0",
    "outputId": "dc150d90-b5bd-427c-d187-dc3b60314a3c"
   },
   "outputs": [
    {
     "name": "stdout",
     "output_type": "stream",
     "text": [
      "+--------------+------------+-------------+----------+------------------+-----------+--------------------+------------------+--------------+------------------+----+----------+\n",
      "|Square_Footage|Num_Bedrooms|Num_Bathrooms|Year_Built|          Lot_Size|Garage_Size|Neighborhood_Quality|       House_Price|Price_per_SqFt|         log_price| Age|Has_Garage|\n",
      "+--------------+------------+-------------+----------+------------------+-----------+--------------------+------------------+--------------+------------------+----+----------+\n",
      "|          1360|           2|            1|      1981|0.5996366396268326|          1|                   5| 262382.8522740563|        192.93| 12.47755998435136|43.0|        No|\n",
      "|          4272|           3|            3|      2016|4.7530138494020395|          1|                   6|  985260.854490162|        230.63| 13.80066171198734| 8.0|       Yes|\n",
      "|          3592|           1|            2|      2016| 3.634822720478255|          1|                   9| 777977.3901185812|        216.59|13.564452741193994| 8.0|        No|\n",
      "|           966|           1|            2|      1977|  2.73066687604351|          1|                   8| 229698.9186636115|        237.78|12.344524681063199|47.0|       Yes|\n",
      "|          4926|           2|            1|      1993| 4.699072554837388|          1|                   8|1041740.8589249004|        211.48|13.856403774516085|31.0|        No|\n",
      "|          3944|           5|            3|      1990| 2.475930043628728|          2|                   8| 879796.9835223783|        223.07|13.687446459296174|34.0|       Yes|\n",
      "|          3671|           1|            2|      2012| 4.911960066216673|          1|                   1| 814427.8614089885|        221.85|  13.6102411351571|12.0|        No|\n",
      "|          3419|           1|            1|      1972| 2.805281407595683|          1|                   1| 703413.1109446795|        205.74|13.463699638235115|52.0|       Yes|\n",
      "|           630|           3|            3|      1997|1.0142859649909075|          1|                   8|173875.03721558454|        275.99|12.066092143262154|27.0|       Yes|\n",
      "|          2185|           4|            2|      1981|3.9416043760667474|          2|                   5| 504176.5060593679|        230.74|  13.1306816961794|43.0|       Yes|\n",
      "|          1269|           2|            2|      2006|3.5550397628502823|          1|                   9|335332.59275293903|        264.25|12.722878132481032|18.0|       Yes|\n",
      "|          2891|           2|            3|      1982|3.9784402458751407|          1|                   2|    635097.3959198|        219.68| 13.36153364551467|42.0|        No|\n",
      "|          2933|           5|            3|      1973| 4.781489129265565|          2|                   9| 701133.8041471172|        239.05|13.460454023903653|51.0|       Yes|\n",
      "|          1684|           5|            3|      1988|3.9942018619295814|          1|                   8| 440726.2848162878|        261.71|12.996179292383204|36.0|       Yes|\n",
      "|          3885|           2|            3|      1983| 3.251014709974911|          1|                   9|  838719.430503504|        215.89|13.639631520110251|41.0|       Yes|\n",
      "|          4617|           5|            1|      2005|4.3578900606237845|          1|                   4|1019192.6613592046|        220.75|13.834521363380867|19.0|        No|\n",
      "|          3404|           3|            3|      1977| 3.529608977095392|          1|                   1| 735850.8123421574|        216.17|13.508782676542397|47.0|        No|\n",
      "|           974|           2|            2|      1986| 2.336535755716654|          2|                   1|234261.64997473895|        240.52|12.364193931947216|38.0|       Yes|\n",
      "|          1582|           5|            2|      1956|4.4852889390879795|          1|                   5| 396246.3588887452|        250.47|12.889791415207107|68.0|       Yes|\n",
      "|          3058|           2|            1|      2017| 1.498552073529678|          1|                   2| 672852.0519810001|        220.03|13.419280750850703| 7.0|        No|\n",
      "+--------------+------------+-------------+----------+------------------+-----------+--------------------+------------------+--------------+------------------+----+----------+\n",
      "only showing top 20 rows\n",
      "\n"
     ]
    }
   ],
   "source": [
    "from pyspark.sql.functions import col, when\n",
    "\n",
    "df = df.withColumn(\"Garage_Size\", when(col(\"Garage_Size\") == 0, 1).otherwise(col(\"Garage_Size\")))\n",
    "\n",
    "df.show()"
   ]
  },
  {
   "cell_type": "markdown",
   "metadata": {
    "id": "lfkvJJmCvcLH"
   },
   "source": [
    "### **Создаем колонку, указывающую, является ли дом новым (`Age < 10`)**"
   ]
  },
  {
   "cell_type": "code",
   "execution_count": 108,
   "metadata": {
    "colab": {
     "base_uri": "https://localhost:8080/"
    },
    "executionInfo": {
     "elapsed": 168,
     "status": "ok",
     "timestamp": 1739196184820,
     "user": {
      "displayName": "Sergey Bykov",
      "userId": "06208526556578872036"
     },
     "user_tz": -180
    },
    "id": "XVR-qeGSwYkL",
    "outputId": "93f23b35-ee59-453b-df96-316dd592f1fd"
   },
   "outputs": [
    {
     "name": "stdout",
     "output_type": "stream",
     "text": [
      "+--------------+------------+-------------+----------+------------------+-----------+--------------------+------------------+--------------+------------------+----+----------+------------+\n",
      "|Square_Footage|Num_Bedrooms|Num_Bathrooms|Year_Built|          Lot_Size|Garage_Size|Neighborhood_Quality|       House_Price|Price_per_SqFt|         log_price| Age|Has_Garage|Is_New_House|\n",
      "+--------------+------------+-------------+----------+------------------+-----------+--------------------+------------------+--------------+------------------+----+----------+------------+\n",
      "|          1360|           2|            1|      1981|0.5996366396268326|          1|                   5| 262382.8522740563|        192.93| 12.47755998435136|43.0|        No|       false|\n",
      "|          4272|           3|            3|      2016|4.7530138494020395|          1|                   6|  985260.854490162|        230.63| 13.80066171198734| 8.0|       Yes|        true|\n",
      "|          3592|           1|            2|      2016| 3.634822720478255|          1|                   9| 777977.3901185812|        216.59|13.564452741193994| 8.0|        No|        true|\n",
      "|           966|           1|            2|      1977|  2.73066687604351|          1|                   8| 229698.9186636115|        237.78|12.344524681063199|47.0|       Yes|       false|\n",
      "|          4926|           2|            1|      1993| 4.699072554837388|          1|                   8|1041740.8589249004|        211.48|13.856403774516085|31.0|        No|       false|\n",
      "|          3944|           5|            3|      1990| 2.475930043628728|          2|                   8| 879796.9835223783|        223.07|13.687446459296174|34.0|       Yes|       false|\n",
      "|          3671|           1|            2|      2012| 4.911960066216673|          1|                   1| 814427.8614089885|        221.85|  13.6102411351571|12.0|        No|       false|\n",
      "|          3419|           1|            1|      1972| 2.805281407595683|          1|                   1| 703413.1109446795|        205.74|13.463699638235115|52.0|       Yes|       false|\n",
      "|           630|           3|            3|      1997|1.0142859649909075|          1|                   8|173875.03721558454|        275.99|12.066092143262154|27.0|       Yes|       false|\n",
      "|          2185|           4|            2|      1981|3.9416043760667474|          2|                   5| 504176.5060593679|        230.74|  13.1306816961794|43.0|       Yes|       false|\n",
      "|          1269|           2|            2|      2006|3.5550397628502823|          1|                   9|335332.59275293903|        264.25|12.722878132481032|18.0|       Yes|       false|\n",
      "|          2891|           2|            3|      1982|3.9784402458751407|          1|                   2|    635097.3959198|        219.68| 13.36153364551467|42.0|        No|       false|\n",
      "|          2933|           5|            3|      1973| 4.781489129265565|          2|                   9| 701133.8041471172|        239.05|13.460454023903653|51.0|       Yes|       false|\n",
      "|          1684|           5|            3|      1988|3.9942018619295814|          1|                   8| 440726.2848162878|        261.71|12.996179292383204|36.0|       Yes|       false|\n",
      "|          3885|           2|            3|      1983| 3.251014709974911|          1|                   9|  838719.430503504|        215.89|13.639631520110251|41.0|       Yes|       false|\n",
      "|          4617|           5|            1|      2005|4.3578900606237845|          1|                   4|1019192.6613592046|        220.75|13.834521363380867|19.0|        No|       false|\n",
      "|          3404|           3|            3|      1977| 3.529608977095392|          1|                   1| 735850.8123421574|        216.17|13.508782676542397|47.0|        No|       false|\n",
      "|           974|           2|            2|      1986| 2.336535755716654|          2|                   1|234261.64997473895|        240.52|12.364193931947216|38.0|       Yes|       false|\n",
      "|          1582|           5|            2|      1956|4.4852889390879795|          1|                   5| 396246.3588887452|        250.47|12.889791415207107|68.0|       Yes|       false|\n",
      "|          3058|           2|            1|      2017| 1.498552073529678|          1|                   2| 672852.0519810001|        220.03|13.419280750850703| 7.0|        No|        true|\n",
      "+--------------+------------+-------------+----------+------------------+-----------+--------------------+------------------+--------------+------------------+----+----------+------------+\n",
      "only showing top 20 rows\n",
      "\n"
     ]
    }
   ],
   "source": [
    "df = df.withColumn(\"Is_New_House\", when(lit(2024) - col(\"Year_Built\") < 10, True).otherwise(False))\n",
    "\n",
    "df.show()"
   ]
  },
  {
   "cell_type": "markdown",
   "metadata": {
    "id": "LcNNbAfAwepJ"
   },
   "source": [
    "### **Создаем UDF для определения типа недвижимости на основе площади (`Square_Footage`)**"
   ]
  },
  {
   "cell_type": "markdown",
   "metadata": {
    "id": "jSZS9CFswnUK"
   },
   "source": [
    "1 способ"
   ]
  },
  {
   "cell_type": "code",
   "execution_count": 109,
   "metadata": {
    "colab": {
     "base_uri": "https://localhost:8080/"
    },
    "executionInfo": {
     "elapsed": 1954,
     "status": "ok",
     "timestamp": 1739196186773,
     "user": {
      "displayName": "Sergey Bykov",
      "userId": "06208526556578872036"
     },
     "user_tz": -180
    },
    "id": "nzMtNz0XwuYq",
    "outputId": "bab8ae8d-dcd5-4ebd-a3b8-c7c39edceaef"
   },
   "outputs": [
    {
     "name": "stdout",
     "output_type": "stream",
     "text": [
      "+--------------+-------------+\n",
      "|Square_Footage|Property_Type|\n",
      "+--------------+-------------+\n",
      "|          1360|       Medium|\n",
      "|          4272|        Large|\n",
      "|          3592|        Large|\n",
      "|           966|        Small|\n",
      "|          4926|        Large|\n",
      "+--------------+-------------+\n",
      "\n"
     ]
    }
   ],
   "source": [
    "from pyspark.sql.functions import udf\n",
    "from pyspark.sql.types import StringType\n",
    "\n",
    "# Определение UDF для классификации недвижимости\n",
    "def classify_property(square_footage):\n",
    "    if square_footage < 1000:\n",
    "        return \"Small\"\n",
    "    elif 1000 <= square_footage <= 3000:\n",
    "        return \"Medium\"\n",
    "    else:\n",
    "        return \"Large\"\n",
    "\n",
    "# Регистрация UDF\n",
    "classify_property_udf = udf(classify_property, StringType())\n",
    "\n",
    "# Применение UDF к DataFrame\n",
    "df1_with_type = df1.withColumn(\"Property_Type\", classify_property_udf(df1[\"Square_Footage\"]))\n",
    "\n",
    "# Показать результат\n",
    "df1_with_type.select([\"Square_Footage\", \"Property_Type\"]).show()"
   ]
  },
  {
   "cell_type": "markdown",
   "metadata": {
    "id": "YAQjhUxewyye"
   },
   "source": [
    "2 способ"
   ]
  },
  {
   "cell_type": "code",
   "execution_count": 110,
   "metadata": {
    "colab": {
     "base_uri": "https://localhost:8080/"
    },
    "executionInfo": {
     "elapsed": 680,
     "status": "ok",
     "timestamp": 1739196187451,
     "user": {
      "displayName": "Sergey Bykov",
      "userId": "06208526556578872036"
     },
     "user_tz": -180
    },
    "id": "4myyonPfw4J4",
    "outputId": "87d91396-19b3-4bd2-abfb-8bbcf4b6c751"
   },
   "outputs": [
    {
     "name": "stdout",
     "output_type": "stream",
     "text": [
      "+--------------+-------------+\n",
      "|Square_Footage|Property_Type|\n",
      "+--------------+-------------+\n",
      "|          1360|       Medium|\n",
      "|          4272|        Large|\n",
      "|          3592|        Large|\n",
      "|           966|        Small|\n",
      "|          4926|        Large|\n",
      "+--------------+-------------+\n",
      "\n"
     ]
    }
   ],
   "source": [
    "from pyspark.sql.functions import udf\n",
    "from pyspark.sql.types import StringType\n",
    "\n",
    "# Использование декоратора для создания UDF\n",
    "@udf(StringType())\n",
    "def classify_property(square_footage):\n",
    "    if square_footage < 1000:\n",
    "        return \"Small\"\n",
    "    elif 1000 <= square_footage <= 3000:\n",
    "        return \"Medium\"\n",
    "    else:\n",
    "        return \"Large\"\n",
    "\n",
    "# Применение UDF с декоратором к DataFrame\n",
    "df1_with_type = df1.withColumn(\"Property_Type\", classify_property(df1[\"Square_Footage\"]))\n",
    "\n",
    "# Показать результат\n",
    "df1_with_type.select([\"Square_Footage\", \"Property_Type\"]).show()"
   ]
  },
  {
   "cell_type": "markdown",
   "metadata": {
    "id": "uLpFF8NqxJTh"
   },
   "source": [
    "3 спопсоб"
   ]
  },
  {
   "cell_type": "code",
   "execution_count": 111,
   "metadata": {
    "colab": {
     "base_uri": "https://localhost:8080/"
    },
    "executionInfo": {
     "elapsed": 1905,
     "status": "ok",
     "timestamp": 1739196189354,
     "user": {
      "displayName": "Sergey Bykov",
      "userId": "06208526556578872036"
     },
     "user_tz": -180
    },
    "id": "0Cgw9697xL7z",
    "outputId": "4dbaafee-01dc-46c4-93d3-3d3b5ce09898"
   },
   "outputs": [
    {
     "name": "stdout",
     "output_type": "stream",
     "text": [
      "+--------------+-------------+\n",
      "|Square_Footage|Property_Type|\n",
      "+--------------+-------------+\n",
      "|          1360|       Medium|\n",
      "|          4272|        Large|\n",
      "|          3592|        Large|\n",
      "|           966|        Small|\n",
      "|          4926|        Large|\n",
      "+--------------+-------------+\n",
      "\n"
     ]
    }
   ],
   "source": [
    "from pyspark.sql.functions import pandas_udf\n",
    "from pyspark.sql.types import StringType\n",
    "import pandas as pd\n",
    "\n",
    "# Использование pandas_udf для классификации\n",
    "@pandas_udf(StringType())\n",
    "def classify_property(square_footage: pd.Series) -> pd.Series:\n",
    "    return square_footage.apply(\n",
    "        lambda x: \"Small\" if x < 1000 else \"Medium\" if 1000 <= x <= 3000 else \"Large\"\n",
    "    )\n",
    "\n",
    "# Применение pandas_udf к DataFrame\n",
    "df1_with_type = df1.withColumn(\"Property_Type\", classify_property(df1[\"Square_Footage\"]))\n",
    "\n",
    "# Показать результат\n",
    "df1_with_type.select([\"Square_Footage\", \"Property_Type\"]).show()\n"
   ]
  },
  {
   "cell_type": "markdown",
   "metadata": {
    "id": "JzzkLisC-nMk"
   },
   "source": [
    "### **С помощью UDF создаем флаг `Is_Luxury`, который равен 1, если `Price_per_SqFt` > 250 и `Num_Bathrooms` больше 2**"
   ]
  },
  {
   "cell_type": "code",
   "execution_count": 112,
   "metadata": {
    "colab": {
     "base_uri": "https://localhost:8080/"
    },
    "executionInfo": {
     "elapsed": 851,
     "status": "ok",
     "timestamp": 1739196190203,
     "user": {
      "displayName": "Sergey Bykov",
      "userId": "06208526556578872036"
     },
     "user_tz": -180
    },
    "id": "4H0CIJWgxWXc",
    "outputId": "1b2b384a-3690-4754-96a0-d415508c588b"
   },
   "outputs": [
    {
     "name": "stdout",
     "output_type": "stream",
     "text": [
      "+--------------+------------+-------------+----------+------------------+-----------+--------------------+------------------+--------------+------------------+----+----------+------------+---------+\n",
      "|Square_Footage|Num_Bedrooms|Num_Bathrooms|Year_Built|          Lot_Size|Garage_Size|Neighborhood_Quality|       House_Price|Price_per_SqFt|         log_price| Age|Has_Garage|Is_New_House|Is_Luxury|\n",
      "+--------------+------------+-------------+----------+------------------+-----------+--------------------+------------------+--------------+------------------+----+----------+------------+---------+\n",
      "|          1360|           2|            1|      1981|0.5996366396268326|          1|                   5| 262382.8522740563|        192.93| 12.47755998435136|43.0|        No|       false|        0|\n",
      "|          4272|           3|            3|      2016|4.7530138494020395|          1|                   6|  985260.854490162|        230.63| 13.80066171198734| 8.0|       Yes|        true|        0|\n",
      "|          3592|           1|            2|      2016| 3.634822720478255|          1|                   9| 777977.3901185812|        216.59|13.564452741193994| 8.0|        No|        true|        0|\n",
      "|           966|           1|            2|      1977|  2.73066687604351|          1|                   8| 229698.9186636115|        237.78|12.344524681063199|47.0|       Yes|       false|        0|\n",
      "|          4926|           2|            1|      1993| 4.699072554837388|          1|                   8|1041740.8589249004|        211.48|13.856403774516085|31.0|        No|       false|        0|\n",
      "|          3944|           5|            3|      1990| 2.475930043628728|          2|                   8| 879796.9835223783|        223.07|13.687446459296174|34.0|       Yes|       false|        0|\n",
      "|          3671|           1|            2|      2012| 4.911960066216673|          1|                   1| 814427.8614089885|        221.85|  13.6102411351571|12.0|        No|       false|        0|\n",
      "|          3419|           1|            1|      1972| 2.805281407595683|          1|                   1| 703413.1109446795|        205.74|13.463699638235115|52.0|       Yes|       false|        0|\n",
      "|           630|           3|            3|      1997|1.0142859649909075|          1|                   8|173875.03721558454|        275.99|12.066092143262154|27.0|       Yes|       false|        1|\n",
      "|          2185|           4|            2|      1981|3.9416043760667474|          2|                   5| 504176.5060593679|        230.74|  13.1306816961794|43.0|       Yes|       false|        0|\n",
      "|          1269|           2|            2|      2006|3.5550397628502823|          1|                   9|335332.59275293903|        264.25|12.722878132481032|18.0|       Yes|       false|        0|\n",
      "|          2891|           2|            3|      1982|3.9784402458751407|          1|                   2|    635097.3959198|        219.68| 13.36153364551467|42.0|        No|       false|        0|\n",
      "|          2933|           5|            3|      1973| 4.781489129265565|          2|                   9| 701133.8041471172|        239.05|13.460454023903653|51.0|       Yes|       false|        0|\n",
      "|          1684|           5|            3|      1988|3.9942018619295814|          1|                   8| 440726.2848162878|        261.71|12.996179292383204|36.0|       Yes|       false|        1|\n",
      "|          3885|           2|            3|      1983| 3.251014709974911|          1|                   9|  838719.430503504|        215.89|13.639631520110251|41.0|       Yes|       false|        0|\n",
      "|          4617|           5|            1|      2005|4.3578900606237845|          1|                   4|1019192.6613592046|        220.75|13.834521363380867|19.0|        No|       false|        0|\n",
      "|          3404|           3|            3|      1977| 3.529608977095392|          1|                   1| 735850.8123421574|        216.17|13.508782676542397|47.0|        No|       false|        0|\n",
      "|           974|           2|            2|      1986| 2.336535755716654|          2|                   1|234261.64997473895|        240.52|12.364193931947216|38.0|       Yes|       false|        0|\n",
      "|          1582|           5|            2|      1956|4.4852889390879795|          1|                   5| 396246.3588887452|        250.47|12.889791415207107|68.0|       Yes|       false|        0|\n",
      "|          3058|           2|            1|      2017| 1.498552073529678|          1|                   2| 672852.0519810001|        220.03|13.419280750850703| 7.0|        No|        true|        0|\n",
      "+--------------+------------+-------------+----------+------------------+-----------+--------------------+------------------+--------------+------------------+----+----------+------------+---------+\n",
      "only showing top 20 rows\n",
      "\n"
     ]
    }
   ],
   "source": [
    "from pyspark.sql.functions import udf\n",
    "from pyspark.sql.types import IntegerType\n",
    "\n",
    "# Определяем UDF-функцию\n",
    "def is_luxury(price_per_sqft, num_bathrooms):\n",
    "    return 1 if price_per_sqft > 250 and num_bathrooms > 2 else 0\n",
    "\n",
    "# Регистрируем UDF в PySpark\n",
    "is_luxury_udf = udf(is_luxury, IntegerType())\n",
    "\n",
    "df = df.withColumn(\"Is_Luxury\", is_luxury_udf(col(\"Price_per_SqFt\"), col(\"Num_Bathrooms\")))\n",
    "\n",
    "df.show()"
   ]
  },
  {
   "cell_type": "markdown",
   "metadata": {
    "id": "UOz-C-zRx3JJ"
   },
   "source": [
    "### **Загрузим данные в pandas DataFrame**"
   ]
  },
  {
   "cell_type": "code",
   "execution_count": 113,
   "metadata": {
    "colab": {
     "base_uri": "https://localhost:8080/",
     "height": 112
    },
    "executionInfo": {
     "elapsed": 1582,
     "status": "ok",
     "timestamp": 1739196191784,
     "user": {
      "displayName": "Sergey Bykov",
      "userId": "06208526556578872036"
     },
     "user_tz": -180
    },
    "id": "ERYY30BCyNuR",
    "outputId": "e2812aff-f4e5-4dd7-ed0b-765e737e0952"
   },
   "outputs": [
    {
     "data": {
      "application/vnd.google.colaboratory.intrinsic+json": {
       "repr_error": "0",
       "type": "dataframe"
      },
      "text/html": [
       "\n",
       "  <div id=\"df-ccc9d52f-9fde-41eb-8670-f7c78f1cf17a\" class=\"colab-df-container\">\n",
       "    <div>\n",
       "<style scoped>\n",
       "    .dataframe tbody tr th:only-of-type {\n",
       "        vertical-align: middle;\n",
       "    }\n",
       "\n",
       "    .dataframe tbody tr th {\n",
       "        vertical-align: top;\n",
       "    }\n",
       "\n",
       "    .dataframe thead th {\n",
       "        text-align: right;\n",
       "    }\n",
       "</style>\n",
       "<table border=\"1\" class=\"dataframe\">\n",
       "  <thead>\n",
       "    <tr style=\"text-align: right;\">\n",
       "      <th></th>\n",
       "      <th>Square_Footage</th>\n",
       "      <th>Num_Bedrooms</th>\n",
       "      <th>Num_Bathrooms</th>\n",
       "      <th>Year_Built</th>\n",
       "      <th>Lot_Size</th>\n",
       "      <th>Garage_Size</th>\n",
       "      <th>Neighborhood_Quality</th>\n",
       "      <th>House_Price</th>\n",
       "      <th>Price_per_SqFt</th>\n",
       "      <th>log_price</th>\n",
       "      <th>Age</th>\n",
       "      <th>Has_Garage</th>\n",
       "      <th>Is_New_House</th>\n",
       "      <th>Is_Luxury</th>\n",
       "    </tr>\n",
       "  </thead>\n",
       "  <tbody>\n",
       "    <tr>\n",
       "      <th>138</th>\n",
       "      <td>3804</td>\n",
       "      <td>3</td>\n",
       "      <td>1</td>\n",
       "      <td>1996</td>\n",
       "      <td>3.335179</td>\n",
       "      <td>2</td>\n",
       "      <td>6</td>\n",
       "      <td>832386.331196</td>\n",
       "      <td>218.82</td>\n",
       "      <td>13.632052</td>\n",
       "      <td>28.0</td>\n",
       "      <td>Yes</td>\n",
       "      <td>False</td>\n",
       "      <td>0</td>\n",
       "    </tr>\n",
       "    <tr>\n",
       "      <th>251</th>\n",
       "      <td>3024</td>\n",
       "      <td>4</td>\n",
       "      <td>1</td>\n",
       "      <td>2001</td>\n",
       "      <td>4.480625</td>\n",
       "      <td>1</td>\n",
       "      <td>9</td>\n",
       "      <td>698124.611471</td>\n",
       "      <td>230.86</td>\n",
       "      <td>13.456153</td>\n",
       "      <td>23.0</td>\n",
       "      <td>Yes</td>\n",
       "      <td>False</td>\n",
       "      <td>0</td>\n",
       "    </tr>\n",
       "  </tbody>\n",
       "</table>\n",
       "</div>\n",
       "    <div class=\"colab-df-buttons\">\n",
       "\n",
       "  <div class=\"colab-df-container\">\n",
       "    <button class=\"colab-df-convert\" onclick=\"convertToInteractive('df-ccc9d52f-9fde-41eb-8670-f7c78f1cf17a')\"\n",
       "            title=\"Convert this dataframe to an interactive table.\"\n",
       "            style=\"display:none;\">\n",
       "\n",
       "  <svg xmlns=\"http://www.w3.org/2000/svg\" height=\"24px\" viewBox=\"0 -960 960 960\">\n",
       "    <path d=\"M120-120v-720h720v720H120Zm60-500h600v-160H180v160Zm220 220h160v-160H400v160Zm0 220h160v-160H400v160ZM180-400h160v-160H180v160Zm440 0h160v-160H620v160ZM180-180h160v-160H180v160Zm440 0h160v-160H620v160Z\"/>\n",
       "  </svg>\n",
       "    </button>\n",
       "\n",
       "  <style>\n",
       "    .colab-df-container {\n",
       "      display:flex;\n",
       "      gap: 12px;\n",
       "    }\n",
       "\n",
       "    .colab-df-convert {\n",
       "      background-color: #E8F0FE;\n",
       "      border: none;\n",
       "      border-radius: 50%;\n",
       "      cursor: pointer;\n",
       "      display: none;\n",
       "      fill: #1967D2;\n",
       "      height: 32px;\n",
       "      padding: 0 0 0 0;\n",
       "      width: 32px;\n",
       "    }\n",
       "\n",
       "    .colab-df-convert:hover {\n",
       "      background-color: #E2EBFA;\n",
       "      box-shadow: 0px 1px 2px rgba(60, 64, 67, 0.3), 0px 1px 3px 1px rgba(60, 64, 67, 0.15);\n",
       "      fill: #174EA6;\n",
       "    }\n",
       "\n",
       "    .colab-df-buttons div {\n",
       "      margin-bottom: 4px;\n",
       "    }\n",
       "\n",
       "    [theme=dark] .colab-df-convert {\n",
       "      background-color: #3B4455;\n",
       "      fill: #D2E3FC;\n",
       "    }\n",
       "\n",
       "    [theme=dark] .colab-df-convert:hover {\n",
       "      background-color: #434B5C;\n",
       "      box-shadow: 0px 1px 3px 1px rgba(0, 0, 0, 0.15);\n",
       "      filter: drop-shadow(0px 1px 2px rgba(0, 0, 0, 0.3));\n",
       "      fill: #FFFFFF;\n",
       "    }\n",
       "  </style>\n",
       "\n",
       "    <script>\n",
       "      const buttonEl =\n",
       "        document.querySelector('#df-ccc9d52f-9fde-41eb-8670-f7c78f1cf17a button.colab-df-convert');\n",
       "      buttonEl.style.display =\n",
       "        google.colab.kernel.accessAllowed ? 'block' : 'none';\n",
       "\n",
       "      async function convertToInteractive(key) {\n",
       "        const element = document.querySelector('#df-ccc9d52f-9fde-41eb-8670-f7c78f1cf17a');\n",
       "        const dataTable =\n",
       "          await google.colab.kernel.invokeFunction('convertToInteractive',\n",
       "                                                    [key], {});\n",
       "        if (!dataTable) return;\n",
       "\n",
       "        const docLinkHtml = 'Like what you see? Visit the ' +\n",
       "          '<a target=\"_blank\" href=https://colab.research.google.com/notebooks/data_table.ipynb>data table notebook</a>'\n",
       "          + ' to learn more about interactive tables.';\n",
       "        element.innerHTML = '';\n",
       "        dataTable['output_type'] = 'display_data';\n",
       "        await google.colab.output.renderOutput(dataTable, element);\n",
       "        const docLink = document.createElement('div');\n",
       "        docLink.innerHTML = docLinkHtml;\n",
       "        element.appendChild(docLink);\n",
       "      }\n",
       "    </script>\n",
       "  </div>\n",
       "\n",
       "\n",
       "<div id=\"df-bcdc3181-7122-49ff-a246-e7f6b7a1d776\">\n",
       "  <button class=\"colab-df-quickchart\" onclick=\"quickchart('df-bcdc3181-7122-49ff-a246-e7f6b7a1d776')\"\n",
       "            title=\"Suggest charts\"\n",
       "            style=\"display:none;\">\n",
       "\n",
       "<svg xmlns=\"http://www.w3.org/2000/svg\" height=\"24px\"viewBox=\"0 0 24 24\"\n",
       "     width=\"24px\">\n",
       "    <g>\n",
       "        <path d=\"M19 3H5c-1.1 0-2 .9-2 2v14c0 1.1.9 2 2 2h14c1.1 0 2-.9 2-2V5c0-1.1-.9-2-2-2zM9 17H7v-7h2v7zm4 0h-2V7h2v10zm4 0h-2v-4h2v4z\"/>\n",
       "    </g>\n",
       "</svg>\n",
       "  </button>\n",
       "\n",
       "<style>\n",
       "  .colab-df-quickchart {\n",
       "      --bg-color: #E8F0FE;\n",
       "      --fill-color: #1967D2;\n",
       "      --hover-bg-color: #E2EBFA;\n",
       "      --hover-fill-color: #174EA6;\n",
       "      --disabled-fill-color: #AAA;\n",
       "      --disabled-bg-color: #DDD;\n",
       "  }\n",
       "\n",
       "  [theme=dark] .colab-df-quickchart {\n",
       "      --bg-color: #3B4455;\n",
       "      --fill-color: #D2E3FC;\n",
       "      --hover-bg-color: #434B5C;\n",
       "      --hover-fill-color: #FFFFFF;\n",
       "      --disabled-bg-color: #3B4455;\n",
       "      --disabled-fill-color: #666;\n",
       "  }\n",
       "\n",
       "  .colab-df-quickchart {\n",
       "    background-color: var(--bg-color);\n",
       "    border: none;\n",
       "    border-radius: 50%;\n",
       "    cursor: pointer;\n",
       "    display: none;\n",
       "    fill: var(--fill-color);\n",
       "    height: 32px;\n",
       "    padding: 0;\n",
       "    width: 32px;\n",
       "  }\n",
       "\n",
       "  .colab-df-quickchart:hover {\n",
       "    background-color: var(--hover-bg-color);\n",
       "    box-shadow: 0 1px 2px rgba(60, 64, 67, 0.3), 0 1px 3px 1px rgba(60, 64, 67, 0.15);\n",
       "    fill: var(--button-hover-fill-color);\n",
       "  }\n",
       "\n",
       "  .colab-df-quickchart-complete:disabled,\n",
       "  .colab-df-quickchart-complete:disabled:hover {\n",
       "    background-color: var(--disabled-bg-color);\n",
       "    fill: var(--disabled-fill-color);\n",
       "    box-shadow: none;\n",
       "  }\n",
       "\n",
       "  .colab-df-spinner {\n",
       "    border: 2px solid var(--fill-color);\n",
       "    border-color: transparent;\n",
       "    border-bottom-color: var(--fill-color);\n",
       "    animation:\n",
       "      spin 1s steps(1) infinite;\n",
       "  }\n",
       "\n",
       "  @keyframes spin {\n",
       "    0% {\n",
       "      border-color: transparent;\n",
       "      border-bottom-color: var(--fill-color);\n",
       "      border-left-color: var(--fill-color);\n",
       "    }\n",
       "    20% {\n",
       "      border-color: transparent;\n",
       "      border-left-color: var(--fill-color);\n",
       "      border-top-color: var(--fill-color);\n",
       "    }\n",
       "    30% {\n",
       "      border-color: transparent;\n",
       "      border-left-color: var(--fill-color);\n",
       "      border-top-color: var(--fill-color);\n",
       "      border-right-color: var(--fill-color);\n",
       "    }\n",
       "    40% {\n",
       "      border-color: transparent;\n",
       "      border-right-color: var(--fill-color);\n",
       "      border-top-color: var(--fill-color);\n",
       "    }\n",
       "    60% {\n",
       "      border-color: transparent;\n",
       "      border-right-color: var(--fill-color);\n",
       "    }\n",
       "    80% {\n",
       "      border-color: transparent;\n",
       "      border-right-color: var(--fill-color);\n",
       "      border-bottom-color: var(--fill-color);\n",
       "    }\n",
       "    90% {\n",
       "      border-color: transparent;\n",
       "      border-bottom-color: var(--fill-color);\n",
       "    }\n",
       "  }\n",
       "</style>\n",
       "\n",
       "  <script>\n",
       "    async function quickchart(key) {\n",
       "      const quickchartButtonEl =\n",
       "        document.querySelector('#' + key + ' button');\n",
       "      quickchartButtonEl.disabled = true;  // To prevent multiple clicks.\n",
       "      quickchartButtonEl.classList.add('colab-df-spinner');\n",
       "      try {\n",
       "        const charts = await google.colab.kernel.invokeFunction(\n",
       "            'suggestCharts', [key], {});\n",
       "      } catch (error) {\n",
       "        console.error('Error during call to suggestCharts:', error);\n",
       "      }\n",
       "      quickchartButtonEl.classList.remove('colab-df-spinner');\n",
       "      quickchartButtonEl.classList.add('colab-df-quickchart-complete');\n",
       "    }\n",
       "    (() => {\n",
       "      let quickchartButtonEl =\n",
       "        document.querySelector('#df-bcdc3181-7122-49ff-a246-e7f6b7a1d776 button');\n",
       "      quickchartButtonEl.style.display =\n",
       "        google.colab.kernel.accessAllowed ? 'block' : 'none';\n",
       "    })();\n",
       "  </script>\n",
       "</div>\n",
       "    </div>\n",
       "  </div>\n"
      ],
      "text/plain": [
       "     Square_Footage  Num_Bedrooms  Num_Bathrooms Year_Built  Lot_Size  \\\n",
       "138            3804             3              1       1996  3.335179   \n",
       "251            3024             4              1       2001  4.480625   \n",
       "\n",
       "     Garage_Size  Neighborhood_Quality    House_Price  Price_per_SqFt  \\\n",
       "138            2                     6  832386.331196          218.82   \n",
       "251            1                     9  698124.611471          230.86   \n",
       "\n",
       "     log_price   Age Has_Garage  Is_New_House  Is_Luxury  \n",
       "138  13.632052  28.0        Yes         False          0  \n",
       "251  13.456153  23.0        Yes         False          0  "
      ]
     },
     "execution_count": 113,
     "metadata": {},
     "output_type": "execute_result"
    }
   ],
   "source": [
    "prices = df.toPandas()\n",
    "prices.sample(2)"
   ]
  },
  {
   "cell_type": "markdown",
   "metadata": {
    "id": "xQDCQdr9yP0r"
   },
   "source": [
    "### **Визуализируем распределение цены дома**"
   ]
  },
  {
   "cell_type": "code",
   "execution_count": 114,
   "metadata": {
    "colab": {
     "base_uri": "https://localhost:8080/",
     "height": 569
    },
    "executionInfo": {
     "elapsed": 1269,
     "status": "ok",
     "timestamp": 1739196193051,
     "user": {
      "displayName": "Sergey Bykov",
      "userId": "06208526556578872036"
     },
     "user_tz": -180
    },
    "id": "6vwe83c9yXv2",
    "outputId": "6d1b4e78-843a-4390-dd72-e095d7725a9c"
   },
   "outputs": [
    {
     "data": {
      "image/png": "[encoded data removed]",
      "text/plain": [
       "<Figure size 1000x600 with 1 Axes>"
      ]
     },
     "metadata": {},
     "output_type": "display_data"
    }
   ],
   "source": [
    "import matplotlib.pyplot as plt\n",
    "\n",
    "# Построение гистограммы распределения цены дома\n",
    "plt.figure(figsize=(10, 6))\n",
    "plt.hist(prices[\"House_Price\"], bins=30, color=\"lightgreen\", edgecolor=\"black\")\n",
    "\n",
    "plt.xlabel(\"Цена дома\", fontsize=12)\n",
    "plt.ylabel(\"Частота\", fontsize=12)\n",
    "plt.title(\"Распределение цены дома\", fontsize=14)\n",
    "\n",
    "plt.show()"
   ]
  },
  {
   "cell_type": "markdown",
   "metadata": {
    "id": "kPIuclyoyw0q"
   },
   "source": [
    "### **Сохраним DataFrame в формате JSON.**"
   ]
  },
  {
   "cell_type": "code",
   "execution_count": 3,
   "metadata": {
    "colab": {
     "base_uri": "https://localhost:8080/",
     "height": 304
    },
    "executionInfo": {
     "elapsed": 184,
     "status": "error",
     "timestamp": 1739196216937,
     "user": {
      "displayName": "Sergey Bykov",
      "userId": "06208526556578872036"
     },
     "user_tz": -180
    },
    "id": "UfpetskgzfGi",
    "outputId": "37ca45e2-25c4-41de-d60c-b5e837cbfc7f"
   },
   "outputs": [
    {
     "ename": "NameError",
     "evalue": "name 'df' is not defined",
     "output_type": "error",
     "traceback": [
      "\u001b[1;31m---------------------------------------------------------------------------\u001b[0m",
      "\u001b[1;31mNameError\u001b[0m                                 Traceback (most recent call last)",
      "\u001b[1;32m~\\AppData\\Local\\Temp\\ipykernel_13096\\1772197615.py\u001b[0m in \u001b[0;36m<module>\u001b[1;34m\u001b[0m\n\u001b[1;32m----> 1\u001b[1;33m \u001b[0mdf\u001b[0m\u001b[1;33m.\u001b[0m\u001b[0mwrite\u001b[0m\u001b[1;33m.\u001b[0m\u001b[0mjson\u001b[0m\u001b[1;33m(\u001b[0m\u001b[1;34m\"house_prices.json\"\u001b[0m\u001b[1;33m)\u001b[0m\u001b[1;33m\u001b[0m\u001b[1;33m\u001b[0m\u001b[0m\n\u001b[0m\u001b[0;32m      2\u001b[0m \u001b[1;31m#df.write.json(\"house_prices.json\") # ошибка\u001b[0m\u001b[1;33m\u001b[0m\u001b[1;33m\u001b[0m\u001b[0m\n",
      "\u001b[1;31mNameError\u001b[0m: name 'df' is not defined"
     ]
    }
   ],
   "source": [
    "df.write.json(\"house_prices.json\")\n",
    "#df.write.json(\"house_prices.json\") # ошибка"
   ]
  },
  {
   "cell_type": "markdown",
   "metadata": {
    "id": "STQkljqb0IHA"
   },
   "source": [
    "### **Кэшируем данные**"
   ]
  },
  {
   "cell_type": "code",
   "execution_count": 4,
   "metadata": {
    "colab": {
     "base_uri": "https://localhost:8080/",
     "height": 356
    },
    "executionInfo": {
     "elapsed": 176,
     "status": "error",
     "timestamp": 1739201754089,
     "user": {
      "displayName": "Sergey Bykov",
      "userId": "06208526556578872036"
     },
     "user_tz": -180
    },
    "id": "H-MyS-jN0l6_",
    "outputId": "9c1d992e-43dc-4e22-f8cc-bfb951838424"
   },
   "outputs": [
    {
     "ename": "NameError",
     "evalue": "name 'df' is not defined",
     "output_type": "error",
     "traceback": [
      "\u001b[1;31m---------------------------------------------------------------------------\u001b[0m",
      "\u001b[1;31mNameError\u001b[0m                                 Traceback (most recent call last)",
      "\u001b[1;32m~\\AppData\\Local\\Temp\\ipykernel_13096\\1710247828.py\u001b[0m in \u001b[0;36m<module>\u001b[1;34m\u001b[0m\n\u001b[0;32m      1\u001b[0m filtered_df = (\n\u001b[1;32m----> 2\u001b[1;33m     \u001b[0mdf\u001b[0m\u001b[1;33m\u001b[0m\u001b[1;33m\u001b[0m\u001b[0m\n\u001b[0m\u001b[0;32m      3\u001b[0m     \u001b[1;33m.\u001b[0m\u001b[0mfilter\u001b[0m\u001b[1;33m(\u001b[0m\u001b[0mdf\u001b[0m\u001b[1;33m[\u001b[0m\u001b[1;34m\"Num_Bedrooms\"\u001b[0m\u001b[1;33m]\u001b[0m \u001b[1;33m>\u001b[0m \u001b[1;36m3\u001b[0m\u001b[1;33m)\u001b[0m\u001b[1;33m\u001b[0m\u001b[1;33m\u001b[0m\u001b[0m\n\u001b[0;32m      4\u001b[0m     \u001b[1;33m.\u001b[0m\u001b[0mselect\u001b[0m\u001b[1;33m(\u001b[0m\u001b[1;34m\"Year_Built\"\u001b[0m\u001b[1;33m,\u001b[0m \u001b[1;34m\"Garage_Size\"\u001b[0m\u001b[1;33m)\u001b[0m\u001b[1;33m\u001b[0m\u001b[1;33m\u001b[0m\u001b[0m\n\u001b[0;32m      5\u001b[0m     \u001b[1;33m.\u001b[0m\u001b[0mlimit\u001b[0m\u001b[1;33m(\u001b[0m\u001b[1;36m3\u001b[0m\u001b[1;33m)\u001b[0m\u001b[1;33m\u001b[0m\u001b[1;33m\u001b[0m\u001b[0m\n",
      "\u001b[1;31mNameError\u001b[0m: name 'df' is not defined"
     ]
    }
   ],
   "source": [
    "filtered_df = (\n",
    "    df\n",
    "    .filter(df[\"Num_Bedrooms\"] > 3)\n",
    "    .select(\"Year_Built\", \"Garage_Size\")\n",
    "    .limit(3)\n",
    ")\n",
    "\n",
    "# Операция 1: Показываем данные\n",
    "print(\"Show Result:\")\n",
    "filtered_df.show()\n",
    "\n",
    "# Операция 2: Вычисление среднего налога\n",
    "print(\"Collect Result:\")\n",
    "print(filtered_df.select(\"Garage_Size\").limit(3).collect())"
   ]
  },
  {
   "cell_type": "code",
   "execution_count": 118,
   "metadata": {
    "colab": {
     "base_uri": "https://localhost:8080/"
    },
    "executionInfo": {
     "elapsed": 1141,
     "status": "ok",
     "timestamp": 1739197870455,
     "user": {
      "displayName": "Sergey Bykov",
      "userId": "06208526556578872036"
     },
     "user_tz": -180
    },
    "id": "YUtN85-S0vE9",
    "outputId": "c351c16b-f027-4732-eb44-8f0c64675846"
   },
   "outputs": [
    {
     "name": "stdout",
     "output_type": "stream",
     "text": [
      "Show Result:\n",
      "+----------+-----------+\n",
      "|Year_Built|Garage_Size|\n",
      "+----------+-----------+\n",
      "|      1990|          2|\n",
      "|      1981|          2|\n",
      "|      1973|          2|\n",
      "+----------+-----------+\n",
      "\n",
      "Collect Result:\n",
      "[Row(Garage_Size=2), Row(Garage_Size=2), Row(Garage_Size=2)]\n"
     ]
    }
   ],
   "source": [
    "filtered_df = (\n",
    "    df\n",
    "    .filter(df[\"Num_Bedrooms\"] > 3)\n",
    "    .select(\"Year_Built\", \"Garage_Size\")\n",
    "    .limit(3)\n",
    ")\n",
    "filtered_df.cache()\n",
    "\n",
    "# Операция 1: Показываем данные\n",
    "print(\"Show Result:\")\n",
    "filtered_df.show()\n",
    "\n",
    "# Операция 2: Вычисление среднего налога\n",
    "print(\"Collect Result:\")\n",
    "print(filtered_df.select(\"Garage_Size\").limit(3).collect())"
   ]
  },
  {
   "cell_type": "markdown",
   "metadata": {
    "id": "BsLMHNs30xnI"
   },
   "source": [
    "### **`repartition` и `coalesce`**"
   ]
  },
  {
   "cell_type": "code",
   "execution_count": 119,
   "metadata": {
    "colab": {
     "base_uri": "https://localhost:8080/"
    },
    "executionInfo": {
     "elapsed": 986,
     "status": "ok",
     "timestamp": 1739197965965,
     "user": {
      "displayName": "Sergey Bykov",
      "userId": "06208526556578872036"
     },
     "user_tz": -180
    },
    "id": "oCdqQ1MR014f",
    "outputId": "38b5df53-164d-477f-d9a7-431ef1d9ea23"
   },
   "outputs": [
    {
     "name": "stdout",
     "output_type": "stream",
     "text": [
      "Количество партиций до repartition: 2\n",
      "Количество партиций после repartition: 4\n"
     ]
    }
   ],
   "source": [
    "# Увеличение числа партиций с 2 до 4\n",
    "df_repartitioned = df1.repartition(4)\n",
    "\n",
    "# Вывод количества партиций\n",
    "print(f\"Количество партиций до repartition: {df1.rdd.getNumPartitions()}\")\n",
    "print(f\"Количество партиций после repartition: {df_repartitioned.rdd.getNumPartitions()}\")"
   ]
  },
  {
   "cell_type": "code",
   "execution_count": 120,
   "metadata": {
    "colab": {
     "base_uri": "https://localhost:8080/"
    },
    "executionInfo": {
     "elapsed": 313,
     "status": "ok",
     "timestamp": 1739197966276,
     "user": {
      "displayName": "Sergey Bykov",
      "userId": "06208526556578872036"
     },
     "user_tz": -180
    },
    "id": "QhZV3mk21FAo",
    "outputId": "a89fc6c0-f5ff-4593-a6f4-f6ca084c091c"
   },
   "outputs": [
    {
     "name": "stdout",
     "output_type": "stream",
     "text": [
      "Количество партиций после coalesce: 4\n",
      "Количество партиций после coalesce: 2\n"
     ]
    }
   ],
   "source": [
    "# Уменьшение числа партиций с 4 до 2\n",
    "df_coalesced = df_repartitioned.coalesce(2)\n",
    "\n",
    "# Вывод количества партиций\n",
    "print(f\"Количество партиций после coalesce: {df_repartitioned.rdd.getNumPartitions()}\")\n",
    "print(f\"Количество партиций после coalesce: {df_coalesced.rdd.getNumPartitions()}\")"
   ]
  },
  {
   "cell_type": "code",
   "execution_count": 121,
   "metadata": {
    "colab": {
     "base_uri": "https://localhost:8080/"
    },
    "executionInfo": {
     "elapsed": 1625,
     "status": "ok",
     "timestamp": 1739197967899,
     "user": {
      "displayName": "Sergey Bykov",
      "userId": "06208526556578872036"
     },
     "user_tz": -180
    },
    "id": "OGFtFXtC1HRE",
    "outputId": "59ae2788-0e52-48a3-ec77-a72c6fd27747"
   },
   "outputs": [
    {
     "name": "stdout",
     "output_type": "stream",
     "text": [
      "Исходное количество партиций: 4\n",
      "Количество партиций после repartition: 2\n",
      "Количество партиций после coalesce: 2\n"
     ]
    }
   ],
   "source": [
    "# Исходный DataFrame с 4 партициями\n",
    "df_original = df1.repartition(4)\n",
    "print(f\"Исходное количество партиций: {df_original.rdd.getNumPartitions()}\")\n",
    "\n",
    "# Использование repartition для уменьшения до 2 партиций\n",
    "df_repartitioned_down = df_original.repartition(2)\n",
    "print(f\"Количество партиций после repartition: {df_repartitioned_down.rdd.getNumPartitions()}\")\n",
    "\n",
    "# Использование coalesce для уменьшения до 2 партиций\n",
    "df_coalesced_down = df_original.coalesce(2)\n",
    "print(f\"Количество партиций после coalesce: {df_coalesced_down.rdd.getNumPartitions()}\")"
   ]
  },
  {
   "cell_type": "markdown",
   "metadata": {
    "id": "dBVNdSvg1JoG"
   },
   "source": [
    "### **View -  обращаться к данным из DataFrame с помощью SQL-запросов.**"
   ]
  },
  {
   "cell_type": "code",
   "execution_count": 122,
   "metadata": {
    "colab": {
     "base_uri": "https://localhost:8080/"
    },
    "executionInfo": {
     "elapsed": 771,
     "status": "ok",
     "timestamp": 1739197968668,
     "user": {
      "displayName": "Sergey Bykov",
      "userId": "06208526556578872036"
     },
     "user_tz": -180
    },
    "id": "gRbQgGLI1QF1",
    "outputId": "929ac0e9-8d5b-47ba-ec63-a6bf4d62b601"
   },
   "outputs": [
    {
     "name": "stdout",
     "output_type": "stream",
     "text": [
      "+-----+---+\n",
      "| Name|Age|\n",
      "+-----+---+\n",
      "|Alice| 34|\n",
      "|  Bob| 45|\n",
      "+-----+---+\n",
      "\n"
     ]
    }
   ],
   "source": [
    "# Пример DataFrame\n",
    "data = [(\"Alice\", 34), (\"Bob\", 45), (\"Cathy\", 29)]\n",
    "columns = [\"Name\", \"Age\"]\n",
    "\n",
    "# Создать DataFrame\n",
    "pyspark_df = spark.createDataFrame(data, columns)\n",
    "\n",
    "# Регистрация временной вьюхи\n",
    "pyspark_df.createOrReplaceTempView(\"people_view\")\n",
    "\n",
    "# Использование SQL-запроса к вьюхе\n",
    "Q = \"\"\"\n",
    "\n",
    "    SELECT Name, Age\n",
    "    FROM people_view\n",
    "    WHERE Age > 30\n",
    "\n",
    "    \"\"\"\n",
    "\n",
    "result = spark.sql(Q)\n",
    "result.show()"
   ]
  },
  {
   "cell_type": "markdown",
   "metadata": {
    "id": "0o8_pbPw1cAe"
   },
   "source": [
    "### **Explain**"
   ]
  },
  {
   "cell_type": "code",
   "execution_count": 123,
   "metadata": {
    "colab": {
     "base_uri": "https://localhost:8080/"
    },
    "executionInfo": {
     "elapsed": 2,
     "status": "ok",
     "timestamp": 1739197968668,
     "user": {
      "displayName": "Sergey Bykov",
      "userId": "06208526556578872036"
     },
     "user_tz": -180
    },
    "id": "bU-KA_-01jCb",
    "outputId": "9c856ae8-f38e-4f52-a0f7-1839b729b250"
   },
   "outputs": [
    {
     "name": "stdout",
     "output_type": "stream",
     "text": [
      "== Physical Plan ==\n",
      "*(1) Project [cast(Year_Built#2706 as string) AS Year_Built#4404, CASE WHEN (Garage_Size#2708 = 0) THEN 1 ELSE Garage_Size#2708 END AS Garage_Size#4745]\n",
      "+- *(1) Filter (isnotnull(Num_Bedrooms#2704) AND (Num_Bedrooms#2704 > 3))\n",
      "   +- FileScan csv [Num_Bedrooms#2704,Year_Built#2706,Garage_Size#2708] Batched: false, DataFilters: [isnotnull(Num_Bedrooms#2704), (Num_Bedrooms#2704 > 3)], Format: CSV, Location: InMemoryFileIndex(1 paths)[file:/content/house_price_regression_dataset.csv], PartitionFilters: [], PushedFilters: [IsNotNull(Num_Bedrooms), GreaterThan(Num_Bedrooms,3)], ReadSchema: struct<Num_Bedrooms:int,Year_Built:int,Garage_Size:int>\n",
      "\n",
      "\n"
     ]
    }
   ],
   "source": [
    "filtered_df = df.filter(df[\"Num_Bedrooms\"] > 3).select(\"Year_Built\", \"Garage_Size\")\n",
    "\n",
    "# Вызов explain\n",
    "filtered_df.explain()"
   ]
  },
  {
   "cell_type": "markdown",
   "metadata": {
    "id": "MGjN4TpC1mE7"
   },
   "source": [
    "### **Конец сессии**"
   ]
  },
  {
   "cell_type": "code",
   "execution_count": 124,
   "metadata": {
    "executionInfo": {
     "elapsed": 1325,
     "status": "ok",
     "timestamp": 1739197973704,
     "user": {
      "displayName": "Sergey Bykov",
      "userId": "06208526556578872036"
     },
     "user_tz": -180
    },
    "id": "6FWVpu4D1t5m"
   },
   "outputs": [],
   "source": [
    "spark.stop()"
   ]
  }
 ],
 "metadata": {
  "colab": {
   "authorship_tag": "ABX9TyNj3qvpKBjW1w/QPM3W86rr",
   "provenance": []
  },
  "kernelspec": {
   "display_name": "Python 3 (ipykernel)",
   "language": "python",
   "name": "python3"
  },
  "language_info": {
   "codemirror_mode": {
    "name": "ipython",
    "version": 3
   },
   "file_extension": ".py",
   "mimetype": "text/x-python",
   "name": "python",
   "nbconvert_exporter": "python",
   "pygments_lexer": "ipython3",
   "version": "3.9.13"
  }
 },
 "nbformat": 4,
 "nbformat_minor": 1
}
