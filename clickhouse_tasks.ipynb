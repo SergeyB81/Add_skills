{
 "cells": [
  {
   "cell_type": "markdown",
   "id": "e4206320-e495-451b-9eae-c99964c3aab3",
   "metadata": {},
   "source": [
    "# ClickHouse   "
   ]
  },
  {
   "cell_type": "markdown",
   "id": "3f4710b2-1cb2-4935-8c04-3477ad70482f",
   "metadata": {},
   "source": [
    " "
   ]
  },
  {
   "cell_type": "markdown",
   "id": "99145202-4efd-4838-b771-94dafb8d911d",
   "metadata": {},
   "source": [
    "## Идем в песочницу \n",
    "https://fiddle.clickhouse.com"
   ]
  },
  {
   "cell_type": "markdown",
   "id": "7623215d-afeb-4cc0-a0e0-0156c44ccaf7",
   "metadata": {},
   "source": [
    " "
   ]
  },
  {
   "cell_type": "markdown",
   "id": "85600a66-972a-4303-b90a-0ad5650ae149",
   "metadata": {},
   "source": [
    "## Создаем таблицу `employee_data`\n"
   ]
  },
  {
   "cell_type": "markdown",
   "id": "e5dcc6e6-bfc2-47f7-9b38-4bff2aa67fff",
   "metadata": {},
   "source": [
    "```sql\n",
    "CREATE TABLE employee_data (\n",
    "    Age Int32,\n",
    "    Salary Int32,\n",
    "    Experience Int32,\n",
    "    City String,\n",
    "    Gender String,\n",
    "    Profession String,\n",
    "    Industry String,\n",
    "    Satisfaction_Level Float32,\n",
    "    Project_Count Int32,\n",
    "    Bonuses Float32,\n",
    "    Start_Date Date\n",
    ") ENGINE = MergeTree()\n",
    "ORDER BY Age;\n",
    "```"
   ]
  },
  {
   "cell_type": "markdown",
   "id": "af22f0c0-e2bc-406c-bf6d-95866b783b52",
   "metadata": {},
   "source": [
    " "
   ]
  },
  {
   "cell_type": "markdown",
   "id": "7a0afaa0-d5b6-4430-a65d-3e320c8f86db",
   "metadata": {},
   "source": [
    "## Заполняем таблицу данными "
   ]
  },
  {
   "cell_type": "markdown",
   "id": "ccdb2f9f-fd8a-4f6d-9009-779196dbad34",
   "metadata": {},
   "source": [
    "```sql\n",
    "INSERT INTO employee_data (\n",
    "    Age, \n",
    "    Salary, \n",
    "    Experience, \n",
    "    City, \n",
    "    Gender, \n",
    "    Profession, \n",
    "    Industry, \n",
    "    Satisfaction_Level, \n",
    "    Project_Count, \n",
    "    Bonuses, \n",
    "    Start_Date\n",
    ") \n",
    "VALUES\n",
    "(35, 70000, 10, 'Moscow', 'M', 'Engineer', 'Energy', 8.2, 12, 120000, '2020-01-11'),\n",
    "(45, NULL, 15, 'SPb', 'F', 'Manager', 'Finance', 6.8, NULL, 150000, '2020-02-03'),\n",
    "(29, 500000, 7, 'Novosibirsk', 'M', 'Developer', 'Technology', 9.0, 22, NULL, '2020-03-21'),\n",
    "(NULL, 80000, NULL, 'Yekaterinburg', 'F', 'Analyst', 'Technology', 7.5, 14, 130000, '2020-04-05'),\n",
    "(40, 850000, 14, 'Kazan', 'M', 'Engineer', 'Natural Resources', NULL, 20, 675000, '2020-05-04'),\n",
    "(33, NULL, 11, 'Omsk', 'F', 'Senior Specialist', 'Natural Resources', 7.0, 17, 125000, NULL),\n",
    "(28, 60000, NULL, 'Samara', 'M', 'Technician', 'Energy', 8.9, 23, NULL, '2020-07-01'),\n",
    "(36, 780000, 13, 'Krasnoyarsk', 'F', 'Manager', 'Technology', 6.5, NULL, 130000, '2020-08-01'),\n",
    "(NULL, 92000, 16, 'Volgograd', 'M', 'Analyst', 'AI', NULL, 15, 140000, '2020-09-06'),\n",
    "(31, 670000, 9, NULL, 'F', 'Developer', 'Finance', 8.3, 21, 120000, '2019-10-07'),\n",
    "(35, NULL, NULL, 'Moscow', 'M', 'Engineer', 'Energy', 8.2, NULL, 120000, NULL),\n",
    "(19, 67787, 9, 'Saratov', 'M', 'Manager', 'Finance', NULL, 21, 120150, '2021-16-01'),\n",
    "(30, 95000, 14, 'Kazan', 'M', 'Engineer', 'Natural Resources', 8.1, 20, 145000, '2020-05-01'),\n",
    "(34, 40000, 6, 'Moscow', 'F', 'Analyst', 'Finance', 8.2, 12, 120000, '2020-01-08'),\n",
    "(15, NULL, 15, 'SPb', 'F', 'Manager', 'Finance', 6.8, NULL, 150000, '2018-02-01'),\n",
    "(79, 520000, 7, 'Novosibirsk', 'F', 'Developer', 'Finance', 9.0, 22, NULL, '2016-03-21'),\n",
    "(NULL,60000, NULL, 'Yekaterinburg', 'F', 'Analyst', 'AI', 7.5, 14, 130000, '2020-04-23'),\n",
    "(20, 351000, 14, 'Kazan', 'F', 'Engineer', 'Natural Resources', NULL, 20, 675000, '2019-05-06'),\n",
    "(53, NULL, 11, 'Omsk', 'F', 'Senior Specialist', 'Natural Resources', 7.0, 17, 125000, NULL),\n",
    "(48, 20000, NULL, 'Samara', 'M', 'Technician', 'AI', 8.9, 23, NULL, '2021-07-08'),\n",
    "(36, 80000, 13, 'Krasnoyarsk', 'M', 'Manager', 'Technology', 6.5, NULL, 130000, '2019-08-11'),\n",
    "(NULL, 12000, 16, 'Volgograd', 'M', 'Analyst', 'AI', NULL, 15, 140000, '2017-09-19'),\n",
    "(21, 67000, 9, NULL, 'F', 'Developer', 'Finance', 8.3, 21, 120000, '2021-10-16'),\n",
    "(65, NULL, NULL, 'Moscow', 'M', 'Engineer', 'Energy', 8.2, NULL, 120000, NULL),\n",
    "(39, 60700, 9, 'Saratov', 'M', 'Manager', 'Finance', NULL, 21, 120150, '2022-10-13'),\n",
    "(36, 90000, 14, 'Kazan', 'M', 'Analyst', 'AI', 8.1, 20, 145000, '2010-05-11');\n",
    "\n",
    "```"
   ]
  },
  {
   "cell_type": "markdown",
   "id": "f42b1207-b3f9-409f-bda4-6ee1911d2df4",
   "metadata": {},
   "source": [
    " "
   ]
  },
  {
   "cell_type": "markdown",
   "id": "08c08ab1-99a7-4fe8-8f5c-fa663d122d2f",
   "metadata": {},
   "source": [
    "## Проверяем, что все корректно "
   ]
  },
  {
   "cell_type": "markdown",
   "id": "8090162c-5775-4524-8a3f-658eb6714d63",
   "metadata": {},
   "source": [
    "```sql\n",
    "select *\n",
    "from employee_data\n",
    "```"
   ]
  },
  {
   "cell_type": "markdown",
   "id": "a288e92d-63ed-4e1e-85e6-8508fe031415",
   "metadata": {},
   "source": [
    " "
   ]
  },
  {
   "cell_type": "markdown",
   "id": "e6e05a55-c252-4fb4-a3a7-a932afc2a59e",
   "metadata": {},
   "source": [
    "## Работаем с датой\n"
   ]
  },
  {
   "cell_type": "markdown",
   "id": "b237dba5-5598-489e-a608-51c1b102d082",
   "metadata": {},
   "source": [
    "1.Извлечение года, месяца и дня из даты."
   ]
  },
  {
   "cell_type": "markdown",
   "id": "f9b4f863-cfde-4825-97e9-ed143b6f6cc6",
   "metadata": {},
   "source": [
    "```sql\n",
    "SELECT toYear(Start_Date), \n",
    "       toMonth(Start_Date),\n",
    "       toDayOfYear(Start_Date),\n",
    "       toDayOfMonth(Start_Date),\n",
    "       toDayOfWeek(Start_Date)\n",
    "FROM employee_data;\n",
    "```"
   ]
  },
  {
   "cell_type": "markdown",
   "id": "24b2079e-394a-49a3-9067-8ed8d3620b71",
   "metadata": {},
   "source": [
    "2.Форматируем даты в определённый строковый формат."
   ]
  },
  {
   "cell_type": "markdown",
   "id": "c63c6001-3743-41bf-907b-5b3c6bb23198",
   "metadata": {},
   "source": [
    "```sql\n",
    "SELECT formatDateTime(Start_Date, '%W-%D-%M-%Y')\n",
    "FROM employee_data\n",
    "```"
   ]
  },
  {
   "cell_type": "markdown",
   "id": "63e2f1ef-94c2-4b92-be8b-b5a0166954f0",
   "metadata": {},
   "source": [
    " 3.Вычисляем разницу в днях между `Start_Date` и текущей датой."
   ]
  },
  {
   "cell_type": "markdown",
   "id": "8b013f61-20db-4faa-87c8-d00cb3f6fe77",
   "metadata": {},
   "source": [
    "```sql\n",
    "SELECT dateDiff(day, Start_Date, now())\n",
    "FROM employee_data;\n",
    "```"
   ]
  },
  {
   "cell_type": "markdown",
   "id": "34a3cd80-ca47-4477-865b-4029b638624c",
   "metadata": {},
   "source": [
    "4.Получить начало месяца и года для каждой даты, используйте функции `toStartOfMonth()` и `toStartOfYear()`"
   ]
  },
  {
   "cell_type": "markdown",
   "id": "8a0afc1f-9d0f-466c-879b-8c76e890342b",
   "metadata": {},
   "source": [
    "```sql\n",
    "SELECT toStartOfMonth(Start_Date),\n",
    "       toStartOfYear(Start_Date)\n",
    "FROM employee_data;\n",
    "```"
   ]
  },
  {
   "cell_type": "markdown",
   "id": "fd4f79f8-471e-40a3-b453-1bcc9a56a281",
   "metadata": {},
   "source": [
    " "
   ]
  },
  {
   "cell_type": "markdown",
   "id": "32b4160d-afcf-430a-94e6-4d9af3ebdc5e",
   "metadata": {},
   "source": [
    "## Работаем с комбинаторными функциями. "
   ]
  },
  {
   "cell_type": "markdown",
   "id": "9f5b028e-fe96-4a61-8aed-c20dd2e9f3d5",
   "metadata": {},
   "source": [
    "1.Найдем среднюю зарплату (Salary) для сотрудников с опытом работы больше 10 лет в каждой отрасли.\n",
    "```sql \n",
    "SELECT \n",
    "    Industry,\n",
    "    avgIf(Salary, Experience > 10) AS AvgSalary\n",
    "FROM employee_data\n",
    "GROUP BY Industry;\n",
    "```\n",
    "2.Посчитаем количество сотрудников в каждой отрасли с уровнем удовлетворённости ниже 6.0.\n",
    "```sql \n",
    "SELECT \n",
    "    Industry,\n",
    "    countIf(Satisfaction_Level > 6) AS Count\n",
    "FROM employee_data\n",
    "GROUP BY Industry;\n",
    "```\n",
    "3.Получим средний бонус (Bonuses) для сотрудников в каждой отрасли, где уровень удовлетворённости больше среднего уровня удовлетворённости по всем отраслям.\n",
    "```sql\n",
    "SELECT \n",
    "    Industry,\n",
    "    round(avgIf(Bonuses, Satisfaction_Level > (SELECT avg(Satisfaction_Level) FROM employee_data))) AS AvgBonuses\n",
    "FROM employee_data\n",
    "GROUP BY Industry;\n",
    "\n",
    "```\n",
    "4.Найдем максимальный и минимальный возраст сотрудников для каждой профессии в каждой отрасли, учитывая только сотрудников, у которых опыт больше 5 лет и зарплата не менее 50000.\n",
    "```sql\n",
    "SELECT \n",
    "    Industry,\n",
    "    Profession,\n",
    "    minIf(Age, Experience > 5 AND Salary > 50000) AS MinAge,\n",
    "    maxIf(Age, Experience > 5 AND Salary > 50000) AS MaxAge\n",
    "FROM employee_data\n",
    "GROUP BY Industry, Profession;\n",
    "```"
   ]
  },
  {
   "cell_type": "markdown",
   "id": "ed8d5433-7dd6-411a-8b4f-472a86ad2b80",
   "metadata": {},
   "source": [
    "## Работаем с массивами "
   ]
  },
  {
   "cell_type": "markdown",
   "id": "bfef52e2-e9f3-4768-958d-674f6ad87828",
   "metadata": {},
   "source": [
    "1.Для каждой отрасли найдем список уникальных профессий, которыми заняты сотрудники этой отрасли, без учёта пола.\n",
    "```sql\n",
    "SELECT \n",
    "    Industry,\n",
    "    groupUniqArray(Profession) AS unique_professions\n",
    "FROM employee_data\n",
    "GROUP BY Industry\n",
    "ORDER BY Industry;\n",
    "```        \n",
    "2.Составим список уникальных профессий, которыми заняты только женщины в каждой отрасли.\n",
    "```sql\n",
    "SELECT \n",
    "    Industry,\n",
    "    groupUniqArrayIf(Profession, Gender = 'F') AS unique_female_professions\n",
    "FROM employee_data\n",
    "GROUP BY Industry\n",
    "ORDER BY Industry;  \n",
    "```\n",
    "3.Определим количество уникальных профессий среди женщин в каждой отрасли, то есть посчитаем уникальные профессии из списка профессий, где работают женщины (п2).\n",
    "```sql\n",
    "SELECT \n",
    "    Industry,\n",
    "    length(groupUniqArrayIf(Profession, Gender = 'F')) AS unique_female_professions_count\n",
    "FROM employee_data\n",
    "GROUP BY Industry\n",
    "ORDER BY Industry;\n",
    "\n",
    "ИЛИ ТАК:\n",
    "\n",
    "SELECT \n",
    "    Industry,\n",
    "    uniqExactIf(Profession, Gender = 'F') AS unique_female_professions_count\n",
    "FROM employee_data\n",
    "GROUP BY Industry\n",
    "ORDER BY Industry;\n",
    "```"
   ]
  },
  {
   "cell_type": "markdown",
   "id": "4bc1eee2-2c12-4056-ba83-a57f11771029",
   "metadata": {},
   "source": [
    " "
   ]
  },
  {
   "cell_type": "markdown",
   "id": "7b3aea8c-4c2a-4b5e-a521-b756e7cbbc58",
   "metadata": {},
   "source": [
    "## Сортировка и фильтрация"
   ]
  },
  {
   "cell_type": "markdown",
   "id": "fecac202-7927-45db-baea-d0e28ac2514b",
   "metadata": {},
   "source": [
    "1.Соберем массив зарплат для каждой отрасли, включив в него только зарплаты выше 100,000. Отфильтрованный массив отсортируйте в порядке возрастания, чтобы зарплаты располагались от меньших к большим.\n",
    "```sql\n",
    "SELECT \n",
    "    Industry,\n",
    "    arraySort(arrayFilter(Salary -> Salary > 100000,\n",
    "                          groupArray(Salary))\n",
    "             ) AS filtered_sorted_salaries\n",
    "FROM employee_data\n",
    "GROUP BY Industry\n",
    "ORDER BY Industry\n",
    "```\n",
    "2.Создадим альтернативный массив зарплат для каждой отрасли, также включающий только значения выше 100,000, но используя фильтрацию в самой функции и отсортируем массив по возрастанию.\n",
    "```sql\n",
    "SELECT \n",
    "    Industry,\n",
    "    arraySort(groupArrayIf(Salary, Salary > 100000)) AS f_s_s\n",
    "FROM employee_data\n",
    "GROUP BY Industry\n",
    "ORDER BY Industry\n",
    "```"
   ]
  },
  {
   "cell_type": "markdown",
   "id": "0ae3bd8e-2c00-446e-8dd1-018e69a555b3",
   "metadata": {},
   "source": [
    " "
   ]
  },
  {
   "cell_type": "markdown",
   "id": "1b71113b",
   "metadata": {},
   "source": [
    "3.Соберем массив зарплат сотрудников в каждой отрасли, отсортировав его по убыванию. \n",
    "```sql \n",
    "SELECT \n",
    " Industry,\n",
    " arrayReverseSort(groupArray(Salary)) AS sorted_salaries\n",
    "FROM employee_data\n",
    "GROUP BY Industry\n",
    "ORDER BY Industry\n",
    "```\n",
    "\n",
    "4.Извлечем топ-3 зарплаты для каждой отрасли.\n",
    "```sql\n",
    "SELECT Industry,\n",
    "       arraySlice(arr_sort, -3, 3) AS top_salary\n",
    "FROM   (SELECT \n",
    "          Industry,\n",
    "          arraySort(groupArray(Salary)) AS arr_sort\n",
    "       FROM employee_data\n",
    "       GROUP BY Industry\n",
    "       ORDER BY Industry)\n",
    "```\n",
    "\n"
   ]
  },
  {
   "cell_type": "markdown",
   "id": "0e5d500e-8f3c-4313-a467-f77c8f583774",
   "metadata": {},
   "source": [
    " "
   ]
  },
  {
   "cell_type": "markdown",
   "id": "dc9f0679-4327-4c5b-bf8a-d6640fc3ed87",
   "metadata": {},
   "source": [
    "## Используем lambda функции "
   ]
  },
  {
   "cell_type": "markdown",
   "id": "6188843f-8fab-42db-bb11-2028357fc6a4",
   "metadata": {},
   "source": [
    "1.Составим массив зарплат для каждой отрасли, включив только те зарплаты, которые превышают 50,000. Для анализа возможного повышения зарплат увеличим каждое значение на 10% и округлим результат до одного знака после запятой.\n",
    "```sql\n",
    "SELECT Industry,\n",
    "       arrayMap(x -> round(x * 1.1, 1), arrayFilter(x -> x > 50000, salaries)) AS adjusted_salaries\n",
    "FROM  (SELECT\n",
    "          Industry,\n",
    "          groupArray(Salary) AS salaries\n",
    "       FROM employee_data\n",
    "       GROUP BY Industry)\n",
    "````       \n",
    "2.Составим массив опыта сотрудников для каждой отрасли, включив только сотрудников с опытом работы более 5 лет. В результате для каждого сотрудника добавим к их текущему опыту 2 года.\n",
    "```sql\n",
    "SELECT Industry,\n",
    "       arrayMap((x -> x + 2), arrayFilter(x -> x > 5, exps)) AS adjusted_experience\n",
    "FROM  (SELECT\n",
    "          Industry,\n",
    "          groupArray(Experience) AS exps\n",
    "       FROM employee_data\n",
    "       GROUP BY Industry)\n",
    "```"
   ]
  },
  {
   "cell_type": "markdown",
   "id": "d2657bee-a225-4eef-a40f-22bff52ba481",
   "metadata": {},
   "source": [
    " "
   ]
  },
  {
   "cell_type": "markdown",
   "id": "9b859bbf-9124-4f92-b2da-3400952127ab",
   "metadata": {},
   "source": [
    "## Работаем с CTE "
   ]
  },
  {
   "cell_type": "markdown",
   "id": "e7400d0c-f952-43c8-ab9c-4d1b6eec898b",
   "metadata": {},
   "source": [
    "1. **CTE**:\n",
    "- Сгруппируем данные по `City` и `Gender`.\n",
    "- Рассчитаем среднюю зарплату (`AVG(Salary)`) и общее количество сотрудников (`COUNT(*)`) для каждой комбинации города и пола.\n",
    "\n",
    "2. **Основной запрос**:\n",
    "- Используем подзапрос, чтобы объединить его результаты с таблицей `employee_data`, сопоставив сотрудников с их городом и полом.\n",
    "- Отфильтруем данные так, чтобы вывести только тех сотрудников, у которых зарплата выше средней зарплаты по их городу и полу.\n"
   ]
  },
  {
   "cell_type": "markdown",
   "id": "c4e3cd91-d6d6-4874-bbb5-d2bf278d44a1",
   "metadata": {},
   "source": [
    "\n",
    "```sql\n",
    "with city_gender_stats as (SELECT City,\n",
    "             Gender,\n",
    "             AVG(Salary) AS avg_salary,\n",
    "             COUNT(*) AS employee_count\n",
    "FROM employee_data\n",
    "GROUP BY City, Gender\n",
    "order by City) \n",
    "\n",
    "SELECT e.City,\n",
    "       e.Gender,\n",
    "       e.Age,\n",
    "       e.Salary,\n",
    "       stats.avg_salary\n",
    "FROM employee_data AS e\n",
    "JOIN city_gender_stats AS stats\n",
    "ON e.City = stats.City AND e.Gender = stats.Gender\n",
    "WHERE e.Salary > stats.avg_salary;\n",
    "```"
   ]
  },
  {
   "cell_type": "markdown",
   "id": "2ea7e2f4-2a83-440e-a4ae-7a17d0b38854",
   "metadata": {},
   "source": [
    " "
   ]
  },
  {
   "cell_type": "markdown",
   "id": "1f3764b9-6c6d-4bd7-af5e-3408601164e5",
   "metadata": {},
   "source": [
    "## Оконные функции "
   ]
  },
  {
   "cell_type": "markdown",
   "id": "fec28f62-1e65-40a3-a767-f95f65b03f6e",
   "metadata": {},
   "source": [
    "1.1. Для каждой профессии пронумеруем сотрудников, начиная с самого высокого уровня зарплаты, используя функцию `ROW_NUMBER()`.\n",
    "```sql\n",
    "SELECT *,\n",
    "       row_number() over (partition by Profession order by Salary desc) as rnk\n",
    "FROM employee_data \n",
    "order by Profession, Salary desc\n",
    "```\n",
    "2.Используем функцию `RANK()`, создадим ранжирование сотрудников в каждой отрасли на основе их зарплаты (начиная с самой высокой).\n",
    "```sql\n",
    "SELECT Industry, Profession, Salary,\n",
    "       rank() over (partition by Industry order by Salary desc) as rnk\n",
    "FROM employee_data \n",
    "order by Industry, Salary desc\n",
    "```\n",
    "3.Рассчитаем скользящее среднее уровня удовлетворённости для текущей строки и двух предыдущих сотрудников с такой же профессией, упорядоченных по зарплате\n",
    "```sql\n",
    "SELECT Profession, Salary, Satisfaction_Level,\n",
    "       avg(Satisfaction_Level) over (partition by Profession order by Salary rows between 2 preceding and current row) as avg_sl\n",
    "FROM employee_data \n",
    "order by Profession, Salary desc\n",
    "```\n",
    "4.Рассчитаем cумму зарплат всех сотрудников в рамках города.\n",
    "```sql\n",
    "SELECT \n",
    "    *,\n",
    "    sum(Salary) OVER (PARTITION BY City) AS city_salary\n",
    "FROM employee_data\n",
    "WHERE Salary IS NOT NULL\n",
    "ORDER BY Profession, city_salary DESC;\n",
    "```"
   ]
  },
  {
   "cell_type": "markdown",
   "id": "746c3bb7-1fd1-43aa-b50c-e5c0a9292169",
   "metadata": {},
   "source": [
    " "
   ]
  },
  {
   "cell_type": "markdown",
   "id": "812f8597-22ca-4902-b833-86f339786abc",
   "metadata": {},
   "source": [
    "## limit by"
   ]
  },
  {
   "cell_type": "markdown",
   "id": "b28273d0-7a25-45b3-ab27-bb24ca154b4e",
   "metadata": {},
   "source": [
    "1.Отобразим только одну запись для каждой уникальной комбинации профессии (Profession) и города (City).\n",
    "```sql\n",
    "SELECT DISTINCT(Profession, City)\n",
    "FROM employee_data\n",
    "order by City\n",
    "```\n",
    "2.Отсортируем данные так, чтобы для каждой профессии результаты отображались в алфавитном порядке профессий, а в рамках каждой профессии записи городов сортировались по убыванию.\n",
    "```sql\n",
    "SELECT Profession, City\n",
    "FROM employee_data\n",
    "order by Profession, City desc\n",
    "```\n",
    "3.Используем оператор LIMIT BY для ограничения количества записей до одной на каждую комбинацию профессии и города.\n",
    "```sql\n",
    "SELECT Profession, City\n",
    "FROM employee_data\n",
    "order by Profession, City desc\n",
    "limit 1 by Profession, City\n",
    "```"
   ]
  },
  {
   "cell_type": "markdown",
   "id": "2043ae16-a8d9-4c17-836a-a48c58ee77ed",
   "metadata": {},
   "source": [
    " "
   ]
  },
  {
   "cell_type": "markdown",
   "id": "0affbdfc-0b18-4736-8810-b89a30aa7a6b",
   "metadata": {},
   "source": [
    "## any при группировке"
   ]
  },
  {
   "cell_type": "markdown",
   "id": "1dc27ecf-7f2b-494f-b68e-12822918e0be",
   "metadata": {},
   "source": [
    "Сгруппируем записи по профессии и городу и используйте агрегатную функцию `any` для выбора произвольного значения из каждой группы для следующих столбцов: `Salary`, `Experience`, `Satisfaction_Level`"
   ]
  },
  {
   "cell_type": "markdown",
   "id": "4a3a3eca-3ac2-495a-9423-4aad3bb8d055",
   "metadata": {},
   "source": [
    "```sql\n",
    "SELECT\n",
    "    Profession,\n",
    "    City,\n",
    "    any(Salary) AS salary_sample,\n",
    "    any(Experience) AS experience_sample,\n",
    "    any(Satisfaction_Level) AS satisfaction_sample\n",
    "FROM employee_data\n",
    "GROUP BY Profession, City\n",
    "order by Profession, City\n",
    "```"
   ]
  },
  {
   "cell_type": "markdown",
   "id": "c1709cca-b1d6-46d2-855c-41ea72900764",
   "metadata": {},
   "source": [
    " "
   ]
  },
  {
   "cell_type": "markdown",
   "id": "30acebb9-dc9a-4b15-856f-3343a1aab30b",
   "metadata": {},
   "source": [
    "## Работа со строками"
   ]
  },
  {
   "cell_type": "markdown",
   "id": "f0b2b991-2822-4e1e-b166-bdb3b61ed20b",
   "metadata": {},
   "source": [
    "1.Создадим сокращённое обозначение для каждой записи, используя инициалы города (`City`) и профессии (`Profession`). Инициалы должны быть в формате \"C.P.\", где первая буква города и первая буква профессии указаны в верхнем регистре, разделённые точками. Например, для города \"Moscow\" и профессии \"Engineer\" должно получиться \"M.E.\".\n",
    "```sql\n",
    "SELECT\n",
    "    Profession,\n",
    "    City,\n",
    "    CONCAT(UPPER(SUBSTRING(City, 1, 1)), '.', UPPER(SUBSTRING(Profession, 1, 1)), '.') AS abbreviation,\n",
    "    any(Salary) AS salary_sample,\n",
    "    any(Experience) AS experience_sample,\n",
    "    any(Satisfaction_Level) AS satisfaction_sample\n",
    "FROM\n",
    "    employee_data\n",
    "GROUP BY\n",
    "    Profession,\n",
    "    City;\n",
    "```    \n",
    "2.Отфильтруем записи по названию города. Выберим только те записи, где город начинается с буквы \"S\" или \"K\". Используем регулярное выражение для поиска городов с нужной начальной буквой.\n",
    "```sql\n",
    "Select City, Age, Profession\n",
    "from employee_data\n",
    "where City REGEXP '^(S|K)'\n",
    "```\n"
   ]
  },
  {
   "cell_type": "markdown",
   "id": "0a337b08-7b27-44d8-83ec-764a007d6a89",
   "metadata": {},
   "source": [
    "## arrayJoin "
   ]
  },
  {
   "cell_type": "markdown",
   "id": "2675bd0c-409d-419c-9362-852884a178ec",
   "metadata": {},
   "source": [
    "\n",
    "1. **Внутри CTE**:\n",
    "   - Сгруппируем данные по полю `Gender`, чтобы агрегировать информацию по полу сотрудников.\n",
    "   - Посчитаем общую сумму зарплат (`Salary`) для каждого пола и назовем этот столбец `sum_salary`.\n",
    "   - Создадим массив, содержащий уникальные профессии (`Profession`) для каждого пола, используя функцию `groupUniqArray`.\n",
    "2. **Во внешнем запросе**:\n",
    "   - Используем функцию `arrayJoin` для развертывания массива `arr_profession`, чтобы каждая профессия отображалась как отдельная строка.\n"
   ]
  },
  {
   "cell_type": "markdown",
   "id": "071e195c-1ff4-4220-82a5-43f87dc07064",
   "metadata": {},
   "source": [
    "```sql\n",
    "WITH cte AS (\n",
    "SELECT Gender,\n",
    "       SUM(Salary) AS sum_salary,\n",
    "       groupUniqArray(Profession) AS arr_profession\n",
    "FROM employee_data\n",
    "GROUP BY Gender)\n",
    "\n",
    "SELECT Gender,\n",
    "       sum_salary,\n",
    "       arrayJoin(arr_profession) AS profession\n",
    "FROM cte\n",
    "```"
   ]
  },
  {
   "cell_type": "markdown",
   "id": "d9b5a49d-7746-4e83-8b4e-4c37c067a39f",
   "metadata": {},
   "source": [
    "## Удаление таблицы"
   ]
  },
  {
   "cell_type": "markdown",
   "id": "8c2a48f8-b4db-4ae8-937f-8d316317936f",
   "metadata": {},
   "source": [
    "1.Удалим всех сотрудников из Москвы"
   ]
  },
  {
   "cell_type": "markdown",
   "id": "a8818ee4-ce2e-4b6e-8c5b-73982d9dea1d",
   "metadata": {},
   "source": [
    "```sql\n",
    "ALTER TABLE employee_data DELETE WHERE City = 'Moscow'\n",
    "OPTIMIZE TABLE employee_data FINAL\n",
    "```"
   ]
  },
  {
   "cell_type": "markdown",
   "id": "030ec12a-6646-4183-ad3a-8b3f2a5e53ce",
   "metadata": {},
   "source": [
    " "
   ]
  },
  {
   "cell_type": "markdown",
   "id": "c2552e68-3a13-413f-83be-efaa52aedded",
   "metadata": {},
   "source": [
    "2.Очистим таблицу `employee_data`, удалив все записи, но оставив саму таблицу"
   ]
  },
  {
   "cell_type": "markdown",
   "id": "3a99f27e-5459-443c-826d-e1ec159ccd8b",
   "metadata": {},
   "source": [
    "```sql\n",
    "TRUNCATE TABLE employee_data;\n",
    "```"
   ]
  },
  {
   "cell_type": "markdown",
   "id": "1fdec945-fda0-47f6-8b13-a62440dd73c5",
   "metadata": {},
   "source": [
    " "
   ]
  },
  {
   "cell_type": "markdown",
   "id": "6fa1c596-7027-487e-91a5-a9b06dcdf926",
   "metadata": {},
   "source": [
    "3.Полностью удалим таблицу `employee_data` вместе со всей её структурой и данными"
   ]
  },
  {
   "cell_type": "markdown",
   "id": "328884a1-d254-4aea-83c0-bff2ff61e7ea",
   "metadata": {},
   "source": [
    "```sql \n",
    "DROP TABLE employee_data;\n",
    "```"
   ]
  },
  {
   "cell_type": "markdown",
   "id": "890ee193-ac64-4c4d-a62f-388fd68cd981",
   "metadata": {},
   "source": [
    "## engine "
   ]
  },
  {
   "cell_type": "markdown",
   "id": "fcae880e-d220-4a90-920e-236d748aa6ed",
   "metadata": {},
   "source": [
    "Исследуем различия в обработке данных между таблицами с движками `MergeTree` и `ReplacingMergeTree`, используя их поведение при наличии дубликатов. Выполним следующие шаги:\n",
    "\n",
    "1. **Создать две таблицы** с одинаковой структурой, но разными типами движков:\n",
    "- Таблицу `employee_data_mt` на базе движка `MergeTree`.\n",
    "- Таблицу `employee_data_rmt` на базе движка `ReplacingMergeTree`, указав в качестве ключа `Start_Date` для замены дубликатов.\n",
    "2. **Заполнить таблицы данными**:\n",
    "- Вставить базовые записи для каждой таблицы, указав значения для `Gender`, `City` и `Start_Date`.\n",
    "- Добавить дополнительные записи в `employee_data_rmt`, которые имеют дубликаты по `Start_Date`, чтобы протестировать поведение `ReplacingMergeTree`.\n",
    "3. **Проанализировать различия в хранении данных**:\n",
    "- Выполнить запрос, который подсчитает количество записей в каждой таблице\n",
    "- Проанализировать результат и ответить на вопросы:\n",
    "   - Почему количество записей в `employee_data_mt` и `employee_data_rmt` отличается?\n",
    "   - Какая таблица хранит уникальные записи по ключу `Start_Date`, а какая сохраняет все вставленные данные, включая дубликаты?"
   ]
  },
  {
   "cell_type": "markdown",
   "id": "edffa0a2-6e2e-4ab8-8da8-bbdc84af5f59",
   "metadata": {},
   "source": [
    "```sql\n",
    " CREATE TABLE employee_data_mt (\n",
    "   Gender String,\n",
    "   City String,\n",
    "   Start_Date DateTime\n",
    " )\n",
    " ENGINE = MergeTree()\n",
    " ORDER BY (Gender, City);\n",
    "\n",
    " CREATE TABLE employee_data_rmt (\n",
    "   Gender String,\n",
    "   City String,\n",
    "   Start_Date DateTime\n",
    " )\n",
    " ENGINE = ReplacingMergeTree(Start_Date)\n",
    " ORDER BY (Gender, City);\n",
    "\n",
    "-- Вставка данных в таблицу employee_data_mt\n",
    "INSERT INTO employee_data_mt (Gender, City, Start_Date) VALUES \n",
    "    ('M', 'Moscow', '2023-01-01 08:00:00'),\n",
    "    ('F', 'SPb', '2023-01-01 09:00:00'),\n",
    "    ('M', 'Kazan', '2023-01-01 10:00:00'),\n",
    "    ('F', 'Moscow', '2023-01-01 11:00:00'),\n",
    "    ('M', 'SPb', '2023-01-01 12:00:00');\n",
    "\n",
    "-- Вставка данных в таблицу employee_data_rmt\n",
    "INSERT INTO employee_data_rmt (Gender, City, Start_Date) VALUES \n",
    "    ('M', 'Moscow', '2023-01-01 08:00:00'),\n",
    "    ('F', 'SPb', '2023-01-01 09:00:00'),\n",
    "    ('M', 'Kazan', '2023-01-01 10:00:00'),\n",
    "    ('F', 'Moscow', '2023-01-01 11:00:00'),\n",
    "    ('M', 'SPb', '2023-01-01 12:00:00');\n",
    "\n",
    "\n",
    "-- Добавим дубликаты в таблицу employee_data_mt для тестирования MergeTree\n",
    "INSERT INTO employee_data_mt (Gender, City, Start_Date) VALUES \n",
    "    ('F', 'Moscow', '2023-01-01 11:00:00'),  \n",
    "    ('M', 'SPb', '2023-01-01 12:00:00'),   \n",
    "    ('M', 'Moscow', '2023-01-01 08:00:00');\n",
    "\n",
    "-- Добавим дубликаты в таблицу employee_data_rmt для тестирования ReplacingMergeTree\n",
    "INSERT INTO employee_data_rmt (Gender, City, Start_Date) VALUES \n",
    "    ('F', 'Moscow', '2023-01-01 11:00:00'),  \n",
    "    ('M', 'SPb', '2023-01-01 12:00:00'),   \n",
    "    ('M', 'Moscow', '2023-01-01 08:00:00'); \n",
    "\n",
    "OPTIMIZE TABLE employee_data_rmt FINAL;\n",
    "\n",
    "SELECT \n",
    "  (SELECT COUNT() FROM employee_data_mt) as cnt_mt,\n",
    "  (SELECT COUNT() FROM employee_data_rmt) as cnt_rmt;\n",
    "\n",
    "```"
   ]
  },
  {
   "cell_type": "markdown",
   "id": "b441c631",
   "metadata": {},
   "source": [
    "<b>Вывод:</b>\n",
    "\n",
    "1.MergeTree хранит все вставленные данные, включая дубликаты.\n",
    "\n",
    "2.ReplacingMergeTree хранит только одну запись на Start_Date после слияния (FINAL).\n",
    "\n",
    "3.Использовать MergeTree стоит, если важно сохранять все версии данных. ReplacingMergeTree подходит, когда необходимо автоматически убирать дубликаты и оставлять только одну актуальную запись."
   ]
  },
  {
   "cell_type": "markdown",
   "id": "73b186d7-0f69-4995-9db4-d8b87995e8b7",
   "metadata": {},
   "source": [
    " "
   ]
  }
 ],
 "metadata": {
  "kernelspec": {
   "display_name": "Python 3 (ipykernel)",
   "language": "python",
   "name": "python3"
  },
  "language_info": {
   "codemirror_mode": {
    "name": "ipython",
    "version": 3
   },
   "file_extension": ".py",
   "mimetype": "text/x-python",
   "name": "python",
   "nbconvert_exporter": "python",
   "pygments_lexer": "ipython3",
   "version": "3.9.13"
  }
 },
 "nbformat": 4,
 "nbformat_minor": 5
}
